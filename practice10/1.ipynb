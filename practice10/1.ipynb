{
 "cells": [
  {
   "cell_type": "code",
   "execution_count": 1,
   "metadata": {},
   "outputs": [],
   "source": [
    "import matplotlib.pyplot as plt\n",
    "import numpy as np\n",
    "import sklearn.linear_model as skmod"
   ]
  },
  {
   "cell_type": "code",
   "execution_count": 2,
   "metadata": {},
   "outputs": [],
   "source": [
    "arr_x1 = np.array([6, 10, 2, 3, 4, 0, 7, 8, 9 ,1]).reshape(10,1)\n",
    "arr_y = np.array([130,21,43,76,105,3, 167, 162, 91,15]).reshape(10,1)"
   ]
  },
  {
   "cell_type": "code",
   "execution_count": 3,
   "metadata": {},
   "outputs": [
    {
     "name": "stdout",
     "output_type": "stream",
     "text": [
      "[[ 6]\n",
      " [10]\n",
      " [ 2]\n",
      " [ 3]\n",
      " [ 4]\n",
      " [ 0]\n",
      " [ 7]\n",
      " [ 8]\n",
      " [ 9]\n",
      " [ 1]]\n",
      "[[130]\n",
      " [ 21]\n",
      " [ 43]\n",
      " [ 76]\n",
      " [105]\n",
      " [  3]\n",
      " [167]\n",
      " [162]\n",
      " [ 91]\n",
      " [ 15]]\n",
      "[[ 36]\n",
      " [100]\n",
      " [  4]\n",
      " [  9]\n",
      " [ 16]\n",
      " [  0]\n",
      " [ 49]\n",
      " [ 64]\n",
      " [ 81]\n",
      " [  1]]\n",
      "[[ 216]\n",
      " [1000]\n",
      " [   8]\n",
      " [  27]\n",
      " [  64]\n",
      " [   0]\n",
      " [ 343]\n",
      " [ 512]\n",
      " [ 729]\n",
      " [   1]]\n",
      "[[   6   36  216]\n",
      " [  10  100 1000]\n",
      " [   2    4    8]\n",
      " [   3    9   27]\n",
      " [   4   16   64]\n",
      " [   0    0    0]\n",
      " [   7   49  343]\n",
      " [   8   64  512]\n",
      " [   9   81  729]\n",
      " [   1    1    1]]\n"
     ]
    }
   ],
   "source": [
    "\n",
    "arr_x2 = arr_x1 ** 2\n",
    "arr_x3 = arr_x1 ** 3\n",
    "\n",
    "arr_x2 = arr_x2.reshape(10,1)\n",
    "arr_x3 = arr_x3.reshape(10,1)\n",
    "\n",
    "\n",
    "arr_x = np.hstack([arr_x1, arr_x2, arr_x3])\n",
    "arr_xx2 = np.hstack([arr_x1, arr_x2])\n",
    "\n",
    "print(arr_x1)\n",
    "print(arr_y)\n",
    "print(arr_x2)\n",
    "print(arr_x3)\n",
    "\n",
    "print(arr_x)"
   ]
  },
  {
   "cell_type": "code",
   "execution_count": 4,
   "metadata": {},
   "outputs": [
    {
     "name": "stdout",
     "output_type": "stream",
     "text": [
      "Eq: 8.71*x + 37.75\n",
      "score is : 0.26\n"
     ]
    }
   ],
   "source": [
    "model = skmod.LinearRegression()\n",
    "model = model.fit(arr_x1, arr_y)\n",
    "# print(model.coef_[0][0])\n",
    "# print(model.intercept_[0])\n",
    "# print(model.score(arr_x1, arr_y))\n",
    "\n",
    "print(\"Eq: {:.2f}*x + {:.2f}\".format(model.coef_[0][0], model.intercept_[0]) )\n",
    "print(\"score is : {:.2f}\".format(model.score(arr_x1, arr_y)))"
   ]
  },
  {
   "cell_type": "code",
   "execution_count": 6,
   "metadata": {},
   "outputs": [
    {
     "name": "stdout",
     "output_type": "stream",
     "text": [
      "Eq: 56.77*x + -4.81*x**2 + -29.53\n",
      "score is : 0.79\n"
     ]
    }
   ],
   "source": [
    "# You will now be able to calculate the link between X1 and Y with a polynomial regression.\n",
    "# - By using X1, X2, X3 (from step 1) make two models (check the np.hstack() function to create the array for training your models):\n",
    "# o One with a polynomial regression of degree two\n",
    "# o One with a polynomial regression of degree three\n",
    "# - Print the coeffs (weights w1, w2 and w3 (if exist)), the intercept (b) and the R² of these models.\n",
    "# - Write the equation\n",
    "\n",
    "arr_x12 = np.hstack([arr_x1, arr_x2])\n",
    "model2 = skmod.LinearRegression().fit(arr_x12, arr_y)\n",
    "\n",
    "print(\"Eq: {:.2f}*x + {:.2f}*x**2 + {:.2f}\".format(model2.coef_[0][0],\n",
    "                                                   model2.coef_[0][1], \n",
    "                                                   model2.intercept_[0]))\n",
    "print(\"score is : {:.2f}\".format(model2.score(arr_x12, arr_y)))\n",
    "\n",
    "\n",
    "\n",
    "# print(model2.coef_)\n",
    "# print(model2.intercept_)\n",
    "# print(model2.score(arr_xx2, arr_y))\n"
   ]
  },
  {
   "cell_type": "code",
   "execution_count": 7,
   "metadata": {},
   "outputs": [
    {
     "name": "stdout",
     "output_type": "stream",
     "text": [
      "Eq: 1.47*x + 9.70*x**2 +-0.97*x**3 + 5.27\n",
      "score is : 0.96\n"
     ]
    }
   ],
   "source": [
    "#degree3\n",
    "arr_x123 = np.hstack([arr_x1, arr_x2, arr_x3])\n",
    "model3 = skmod.LinearRegression().fit(arr_x123, arr_y)\n",
    "\n",
    "print(\"Eq: {:.2f}*x + {:.2f}*x**2 +{:.2f}*x**3 + {:.2f}\".format(\n",
    "                                                    model3.coef_[0][0],\n",
    "                                                   model3.coef_[0][1],\n",
    "                                                   model3.coef_[0][2],\n",
    "                                                   model3.intercept_[0]))\n",
    "print(\"score is : {:.2f}\".format(model3.score(arr_x123, arr_y)))\n",
    "# model3 = skmod.LinearRegression()\n",
    "# model3 = model.fit(arr_x, arr_y)\n",
    "# print(model3.coef_)\n",
    "# print(model3.intercept_)\n",
    "# print(model3.score(arr_x, arr_y))"
   ]
  },
  {
   "cell_type": "code",
   "execution_count": 9,
   "metadata": {},
   "outputs": [
    {
     "data": {
      "text/plain": [
       "[<matplotlib.lines.Line2D at 0x1c3b91a29e0>]"
      ]
     },
     "execution_count": 9,
     "metadata": {},
     "output_type": "execute_result"
    },
    {
     "data": {
      "image/png": "[encoded data removed]",
      "text/plain": [
       "<Figure size 640x480 with 1 Axes>"
      ]
     },
     "metadata": {},
     "output_type": "display_data"
    }
   ],
   "source": [
    "# 4. The graphics\n",
    "# You can now draw a graph with all these data.\n",
    "# - Make a plot with:\n",
    "# o The original data (scatter plot)\n",
    "# o The linear regression (line plot)\n",
    "# o The two polynomial models (line plots)\n",
    "\n",
    "import matplotlib.pyplot as plt\n",
    "plt.scatter(arr_x1, arr_y)\n",
    "plt.plot([0, 10], model.predict(np.array([[0], [10]])))\n",
    "x_for_plot = np.arange(0, 10, 0.1).reshape(-1, 1)\n",
    "x2_for_plot = x_for_plot ** 2\n",
    "plt.plot(x_for_plot, model2.predict(np.hstack([x_for_plot, x2_for_plot])))\n",
    "x3_for_plot = x_for_plot**3\n",
    "plt.plot(x_for_plot, model3.predict(np.hstack([x_for_plot, x2_for_plot, x3_for_plot])))"
   ]
  }
 ],
 "metadata": {
  "kernelspec": {
   "display_name": "Python 3.10.1 64-bit",
   "language": "python",
   "name": "python3"
  },
  "language_info": {
   "codemirror_mode": {
    "name": "ipython",
    "version": 3
   },
   "file_extension": ".py",
   "mimetype": "text/x-python",
   "name": "python",
   "nbconvert_exporter": "python",
   "pygments_lexer": "ipython3",
   "version": "3.10.1"
  },
  "orig_nbformat": 4,
  "vscode": {
   "interpreter": {
    "hash": "e4dc0f147d725ed11c0fe90f83a594f1476427bfe3a425e4102a8fdc0a894ea9"
   }
  }
 },
 "nbformat": 4,
 "nbformat_minor": 2
}
