{
 "cells": [
  {
   "cell_type": "code",
   "execution_count": 2,
   "metadata": {},
   "outputs": [
    {
     "name": "stdout",
     "output_type": "stream",
     "text": [
      "            Date       Open       High        Low      Close  Adj Close  \\\n",
      "0     1973-05-02   0.000000   2.000000   1.966146   2.000000   0.470298   \n",
      "1     1973-05-03   0.000000   2.013021   1.953125   2.005208   0.471523   \n",
      "2     1973-05-04   0.000000   2.028646   1.989583   2.000000   0.470298   \n",
      "3     1973-05-07   0.000000   2.015625   1.984375   1.989583   0.467849   \n",
      "4     1973-05-08   0.000000   1.989583   1.947917   1.986979   0.467236   \n",
      "...          ...        ...        ...        ...        ...        ...   \n",
      "12443 2022-08-31  79.250000  79.570000  78.139999  78.209999  78.209999   \n",
      "12444 2022-09-01  78.129997  79.800003  77.769997  79.800003  79.800003   \n",
      "12445 2022-09-02  80.139999  80.419998  77.910004  78.169998  78.169998   \n",
      "12446 2022-09-06  77.680000  79.110001  77.559998  77.769997  77.769997   \n",
      "12447 2022-09-07  78.089996  78.660004  77.910004  78.550003  78.550003   \n",
      "\n",
      "        Volume  \n",
      "0       672000  \n",
      "1       739200  \n",
      "2      1339200  \n",
      "3       316800  \n",
      "4       619200  \n",
      "...        ...  \n",
      "12443  4054100  \n",
      "12444  5924100  \n",
      "12445  3111700  \n",
      "12446  4137000  \n",
      "12447  4264500  \n",
      "\n",
      "[12448 rows x 7 columns]\n"
     ]
    }
   ],
   "source": [
    "# 1.\tRead your .csv with pd.read_csv()\n",
    "# The goal of this first step is to get your csv file into a dataframe to use it with Python.\n",
    "# -\tUse the pandas function read_csv to read your .csv file \n",
    "# -\tAdd the option to automatically change the date to datetime object\n",
    "\n",
    "\n",
    "import csv\n",
    "import pandas as pd\n",
    "\n",
    "df = pd.read_csv(r\"C:\\Users\\leila\\OneDrive\\Рабочий стол\\IKT\\practice3\\CL.csv\",parse_dates=[\"Date\"])\n",
    "# print(df)\n",
    "\n",
    "# print(type(df['Date'][0]))\n",
    "print(df)\n"
   ]
  },
  {
   "cell_type": "code",
   "execution_count": 3,
   "metadata": {},
   "outputs": [
    {
     "name": "stdout",
     "output_type": "stream",
     "text": [
      "            Date       Open       High        Low      Close  Adj Close  \\\n",
      "0     1973-05-02   0.000000   2.000000   1.966146   2.000000   0.470298   \n",
      "1     1973-05-03   0.000000   2.013021   1.953125   2.005208   0.471523   \n",
      "2     1973-05-04   0.000000   2.028646   1.989583   2.000000   0.470298   \n",
      "3     1973-05-07   0.000000   2.015625   1.984375   1.989583   0.467849   \n",
      "4     1973-05-08   0.000000   1.989583   1.947917   1.986979   0.467236   \n",
      "...          ...        ...        ...        ...        ...        ...   \n",
      "12443 2022-08-31  79.250000  79.570000  78.139999  78.209999  78.209999   \n",
      "12444 2022-09-01  78.129997  79.800003  77.769997  79.800003  79.800003   \n",
      "12445 2022-09-02  80.139999  80.419998  77.910004  78.169998  78.169998   \n",
      "12446 2022-09-06  77.680000  79.110001  77.559998  77.769997  77.769997   \n",
      "12447 2022-09-07  78.089996  78.660004  77.910004  78.550003  78.550003   \n",
      "\n",
      "        Volume   Name    Surname Date_of_dowload  \n",
      "0       672000  Leila  Bekturgan      2022-09-15  \n",
      "1       739200  Leila  Bekturgan      2022-09-15  \n",
      "2      1339200  Leila  Bekturgan      2022-09-15  \n",
      "3       316800  Leila  Bekturgan      2022-09-15  \n",
      "4       619200  Leila  Bekturgan      2022-09-15  \n",
      "...        ...    ...        ...             ...  \n",
      "12443  4054100  Leila  Bekturgan      2022-09-15  \n",
      "12444  5924100  Leila  Bekturgan      2022-09-15  \n",
      "12445  3111700  Leila  Bekturgan      2022-09-15  \n",
      "12446  4137000  Leila  Bekturgan      2022-09-15  \n",
      "12447  4264500  Leila  Bekturgan      2022-09-15  \n",
      "\n",
      "[12448 rows x 10 columns]\n"
     ]
    }
   ],
   "source": [
    "# 2.\tModify your dataframe\n",
    "# The goal of this second step is to add information on your dataframe for later use.\n",
    "# -\tAdd three columns (like practice 2):\n",
    "# “Name” with your name (same for every line)\n",
    "# “Surname” with your surname (same for every line)\n",
    "# “Date_of_download” with the date of practice 1 (same for every line)\n",
    "\n",
    "\n",
    "# df[\"Name\"] = \"Leila\"   можно так \n",
    "import datetime\n",
    "\n",
    "\n",
    "df[\"Name\"] = [\"Leila\" for _ in range(0, len(df))]  # можно так\n",
    "df[\"Surname\"] = \"Bekturgan\"\n",
    "df[\"Date_of_dowload\"] = datetime.datetime(year = 2022, month= 9, day = 15)\n",
    "\n",
    "\n",
    "\n",
    "\n",
    "print(df)\n"
   ]
  },
  {
   "cell_type": "code",
   "execution_count": 10,
   "metadata": {},
   "outputs": [
    {
     "name": "stdout",
     "output_type": "stream",
     "text": [
      "            Date       Open       High        Low      Close  Adj Close  \\\n",
      "0     1973-05-02   0.000000   2.000000   1.966146   2.000000   0.470298   \n",
      "1     1973-05-03   0.000000   2.013021   1.953125   2.005208   0.471523   \n",
      "2     1973-05-04   0.000000   2.028646   1.989583   2.000000   0.470298   \n",
      "3     1973-05-07   0.000000   2.015625   1.984375   1.989583   0.467849   \n",
      "4     1973-05-08   0.000000   1.989583   1.947917   1.986979   0.467236   \n",
      "...          ...        ...        ...        ...        ...        ...   \n",
      "12443 2022-08-31  79.250000  79.570000  78.139999  78.209999  78.209999   \n",
      "12444 2022-09-01  78.129997  79.800003  77.769997  79.800003  79.800003   \n",
      "12445 2022-09-02  80.139999  80.419998  77.910004  78.169998  78.169998   \n",
      "12446 2022-09-06  77.680000  79.110001  77.559998  77.769997  77.769997   \n",
      "12447 2022-09-07  78.089996  78.660004  77.910004  78.550003  78.550003   \n",
      "\n",
      "        Volume   Name    Surname Date_of_dowload  percentage_change  \n",
      "0       672000  Leila  Bekturgan      2022-09-15           0.000000  \n",
      "1       739200  Leila  Bekturgan      2022-09-15           0.000000  \n",
      "2      1339200  Leila  Bekturgan      2022-09-15           0.000000  \n",
      "3       316800  Leila  Bekturgan      2022-09-15           0.000000  \n",
      "4       619200  Leila  Bekturgan      2022-09-15           0.000000  \n",
      "...        ...    ...        ...             ...                ...  \n",
      "12443  4054100  Leila  Bekturgan      2022-09-15          -0.630915  \n",
      "12444  5924100  Leila  Bekturgan      2022-09-15          -1.433512  \n",
      "12445  3111700  Leila  Bekturgan      2022-09-15           2.508113  \n",
      "12446  4137000  Leila  Bekturgan      2022-09-15          -3.166837  \n",
      "12447  4264500  Leila  Bekturgan      2022-09-15           0.525030  \n",
      "\n",
      "[12448 rows x 11 columns]\n"
     ]
    }
   ],
   "source": [
    "# 3.\tModify your dataframe\n",
    "# The goal of this third step is to get stock market variation instead of price. This will make all stocks to the same range. Later in this course, we will try to predict the stock variation and not the stock price.\n",
    "\n",
    "percentage_change = [0]\n",
    "\n",
    "\n",
    "\n",
    "# for i, row in df.iterrows():\n",
    "#     print(df['Open'][i])\n",
    "\n",
    "for index, item in df.iterrows():\n",
    "    if index == 0:\n",
    "        continue\n",
    "    else:\n",
    "        if(df[\"Open\"][index] != 0):\n",
    "            percentage_change.append((df[\"Open\"][index] - df[\"Open\"][index - 1]) / df[\"Open\"][index] * 100)\n",
    "        else:\n",
    "            percentage_change.append(0)\n",
    "\n",
    "\n",
    "    \n",
    "# print(percentage_change)\n",
    "df[\"percentage_change\"] = percentage_change\n",
    "print(df)"
   ]
  },
  {
   "cell_type": "code",
   "execution_count": 11,
   "metadata": {},
   "outputs": [],
   "source": [
    "# 4.\tSave your dataframe to json\n",
    "# The goal of this fourth step is to save and share your data with other students.\n",
    "# -\tSave your dataframe in JSON format\n",
    "# -\tReopen your dataframe to validate than the dataframe is the same\n",
    "# -\tRename your JSON file with the symbol of the company\n",
    "# -\tUpload your file on the shared folder: https://drive.google.com/drive/folders/1I9PAswCIzcpNeOM-N6nWXEf4MgqxWp-w?usp=sharing\n",
    "\n",
    "\n",
    "df.to_json(r\"C:\\Users\\leila\\OneDrive\\Рабочий стол\\IKT\\practice3\\CL.json\", date_format='iso')\n",
    "\n"
   ]
  },
  {
   "cell_type": "code",
   "execution_count": 12,
   "metadata": {},
   "outputs": [
    {
     "name": "stdout",
     "output_type": "stream",
     "text": [
      "                           Date       Open       High        Low      Close  \\\n",
      "0     1973-05-02 00:00:00+00:00   0.000000   2.000000   1.966146   2.000000   \n",
      "1     1973-05-03 00:00:00+00:00   0.000000   2.013021   1.953125   2.005208   \n",
      "2     1973-05-04 00:00:00+00:00   0.000000   2.028646   1.989583   2.000000   \n",
      "3     1973-05-07 00:00:00+00:00   0.000000   2.015625   1.984375   1.989583   \n",
      "4     1973-05-08 00:00:00+00:00   0.000000   1.989583   1.947917   1.986979   \n",
      "...                         ...        ...        ...        ...        ...   \n",
      "12443 2022-08-31 00:00:00+00:00  79.250000  79.570000  78.139999  78.209999   \n",
      "12444 2022-09-01 00:00:00+00:00  78.129997  79.800003  77.769997  79.800003   \n",
      "12445 2022-09-02 00:00:00+00:00  80.139999  80.419998  77.910004  78.169998   \n",
      "12446 2022-09-06 00:00:00+00:00  77.680000  79.110001  77.559998  77.769997   \n",
      "12447 2022-09-07 00:00:00+00:00  78.089996  78.660004  77.910004  78.550003   \n",
      "\n",
      "       Adj Close   Volume   Name    Surname           Date_of_dowload  \\\n",
      "0       0.470298   672000  Leila  Bekturgan  2022-09-15T00:00:00.000Z   \n",
      "1       0.471523   739200  Leila  Bekturgan  2022-09-15T00:00:00.000Z   \n",
      "2       0.470298  1339200  Leila  Bekturgan  2022-09-15T00:00:00.000Z   \n",
      "3       0.467849   316800  Leila  Bekturgan  2022-09-15T00:00:00.000Z   \n",
      "4       0.467236   619200  Leila  Bekturgan  2022-09-15T00:00:00.000Z   \n",
      "...          ...      ...    ...        ...                       ...   \n",
      "12443  78.209999  4054100  Leila  Bekturgan  2022-09-15T00:00:00.000Z   \n",
      "12444  79.800003  5924100  Leila  Bekturgan  2022-09-15T00:00:00.000Z   \n",
      "12445  78.169998  3111700  Leila  Bekturgan  2022-09-15T00:00:00.000Z   \n",
      "12446  77.769997  4137000  Leila  Bekturgan  2022-09-15T00:00:00.000Z   \n",
      "12447  78.550003  4264500  Leila  Bekturgan  2022-09-15T00:00:00.000Z   \n",
      "\n",
      "       percentage_change  \n",
      "0               0.000000  \n",
      "1               0.000000  \n",
      "2               0.000000  \n",
      "3               0.000000  \n",
      "4               0.000000  \n",
      "...                  ...  \n",
      "12443          -0.630915  \n",
      "12444          -1.433512  \n",
      "12445           2.508113  \n",
      "12446          -3.166837  \n",
      "12447           0.525030  \n",
      "\n",
      "[12448 rows x 11 columns]\n"
     ]
    }
   ],
   "source": [
    "df = pd.read_json(r\"C:\\Users\\leila\\OneDrive\\Рабочий стол\\IKT\\practice3\\CL.json\")\n",
    "print(df)"
   ]
  },
  {
   "cell_type": "code",
   "execution_count": 13,
   "metadata": {},
   "outputs": [],
   "source": [
    "\n",
    "\n",
    "\n",
    "df1 = pd.read_json(r'C:\\Users\\leila\\OneDrive\\Рабочий стол\\IKT\\practice3\\ETSY.json')\n",
    "df1.to_csv(r'C:\\Users\\leila\\OneDrive\\Рабочий стол\\IKT\\practice3\\ETSY.csv', index = None)\n",
    "\n",
    "df2 = pd.read_json(r'C:\\Users\\leila\\OneDrive\\Рабочий стол\\IKT\\practice3\\MRNA.json')\n",
    "df2.to_csv(r'C:\\Users\\leila\\OneDrive\\Рабочий стол\\IKT\\practice3\\MRNA.csv', index = None)\n",
    "\n",
    "df3 = pd.read_json(r'C:\\Users\\leila\\OneDrive\\Рабочий стол\\IKT\\practice3\\ORCL.json')\n",
    "df3.to_csv(r'C:\\Users\\leila\\OneDrive\\Рабочий стол\\IKT\\practice3\\ORCL.csv', index = None)"
   ]
  },
  {
   "cell_type": "code",
   "execution_count": 14,
   "metadata": {},
   "outputs": [
    {
     "name": "stdout",
     "output_type": "stream",
     "text": [
      "                           Date       Open       High        Low      Close  \\\n",
      "0     2015-04-16 00:00:00+00:00  31.000000  35.740002  28.219999  30.000000   \n",
      "1     2015-04-17 00:00:00+00:00  29.770000  30.299999  26.510000  27.580000   \n",
      "2     2015-04-20 00:00:00+00:00  28.770000  28.900000  24.870001  24.900000   \n",
      "3     2015-04-21 00:00:00+00:00  24.969999  26.040001  24.559999  25.750000   \n",
      "4     2015-04-22 00:00:00+00:00  26.000000  26.240000  24.950001  25.120001   \n",
      "...                         ...        ...        ...        ...        ...   \n",
      "11999 2022-08-31 00:00:00+00:00  74.459999  75.150002  74.040001  74.150002   \n",
      "12000 2022-09-01 00:00:00+00:00  74.120003  75.370003  73.529999  75.300003   \n",
      "12001 2022-09-02 00:00:00+00:00  75.739998  76.769997  74.480003  74.680000   \n",
      "12002 2022-09-06 00:00:00+00:00  74.699997  75.190002  73.550003  73.830002   \n",
      "12003 2022-09-07 00:00:00+00:00  73.680000  74.669998  73.419998  74.489998   \n",
      "\n",
      "       Adj Close    Volume        Name  Surname             Date_Practice  \\\n",
      "0      30.000000  19763300     Aruzhan  Seitkul  2022-09-07T00:00:00.000Z   \n",
      "1      27.580000   3965500     Aruzhan  Seitkul  2022-09-07T00:00:00.000Z   \n",
      "2      24.900000   3076200     Aruzhan  Seitkul  2022-09-07T00:00:00.000Z   \n",
      "3      25.750000   2184700     Aruzhan  Seitkul  2022-09-07T00:00:00.000Z   \n",
      "4      25.120001   1442500     Aruzhan  Seitkul  2022-09-07T00:00:00.000Z   \n",
      "...          ...       ...         ...      ...                       ...   \n",
      "11999  74.150002   8612900  Temirkhan     Seken                       NaN   \n",
      "12000  75.300003   8139800  Temirkhan     Seken                       NaN   \n",
      "12001  74.680000  11027700  Temirkhan     Seken                       NaN   \n",
      "12002  73.830002   7090100  Temirkhan     Seken                       NaN   \n",
      "12003  74.489998   5789800  Temirkhan     Seken                       NaN   \n",
      "\n",
      "       Percentage_change          Date_of_download  percentage_change  \n",
      "0               0.000000                       NaN                NaN  \n",
      "1              -4.131676                       NaN                NaN  \n",
      "2              -3.475843                       NaN                NaN  \n",
      "3             -15.218267                       NaN                NaN  \n",
      "4               3.961542                       NaN                NaN  \n",
      "...                  ...                       ...                ...  \n",
      "11999           0.053721  2022-09-09T00:00:00.000Z                NaN  \n",
      "12000          -0.458710  2022-09-09T00:00:00.000Z                NaN  \n",
      "12001           2.138890  2022-09-09T00:00:00.000Z                NaN  \n",
      "12002          -1.392237  2022-09-09T00:00:00.000Z                NaN  \n",
      "12003          -1.384361  2022-09-09T00:00:00.000Z                NaN  \n",
      "\n",
      "[12004 rows x 13 columns]\n"
     ]
    }
   ],
   "source": [
    "df = pd.concat([df1, df2, df3])\n",
    "# print(df)\n",
    "df = df.reset_index(drop = True)\n",
    "print(df)"
   ]
  }
 ],
 "metadata": {
  "kernelspec": {
   "display_name": "Python 3.10.1 64-bit",
   "language": "python",
   "name": "python3"
  },
  "language_info": {
   "codemirror_mode": {
    "name": "ipython",
    "version": 3
   },
   "file_extension": ".py",
   "mimetype": "text/x-python",
   "name": "python",
   "nbconvert_exporter": "python",
   "pygments_lexer": "ipython3",
   "version": "3.10.1"
  },
  "orig_nbformat": 4,
  "vscode": {
   "interpreter": {
    "hash": "e4dc0f147d725ed11c0fe90f83a594f1476427bfe3a425e4102a8fdc0a894ea9"
   }
  }
 },
 "nbformat": 4,
 "nbformat_minor": 2
}
