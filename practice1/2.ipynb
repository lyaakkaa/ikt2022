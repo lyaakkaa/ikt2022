{
 "cells": [
  {
   "cell_type": "code",
   "execution_count": 3,
   "metadata": {},
   "outputs": [
    {
     "name": "stdout",
     "output_type": "stream",
     "text": [
      "['1973-05-02', '1973-05-03', '1973-05-04', '1973-05-07', '1973-05-08', '1973-05-09', '1973-05-10', '1973-05-11', '1973-05-14', '1973-05-15']\n",
      "['0.000000', '0.000000', '0.000000', '0.000000', '0.000000', '0.000000', '0.000000', '0.000000', '0.000000', '0.000000']\n",
      "['2.000000', '2.013021', '2.028646', '2.015625', '1.989583', '2.000000', '1.989583', '1.989583', '1.984375', '1.968750']\n",
      "['1.966146', '1.953125', '1.989583', '1.984375', '1.947917', '1.979167', '1.971354', '1.973958', '1.950521', '1.942708']\n",
      "['2.000000', '2.005208', '2.000000', '1.989583', '1.986979', '1.979167', '1.979167', '1.979167', '1.950521', '1.958333']\n",
      "['0.470298', '0.471523', '0.470298', '0.467849', '0.467236', '0.465399', '0.465399', '0.465399', '0.458663', '0.460500']\n",
      "['672000', '739200', '1339200', '316800', '619200', '508800', '307200', '451200', '657600', '830400']\n"
     ]
    }
   ],
   "source": [
    "import csv\n",
    "\n",
    "\n",
    "\n",
    "\n",
    "\n",
    "with open(r\"C:\\Users\\leila\\OneDrive\\Рабочий стол\\IKT\\practice1\\CL.csv\", \"r\") as file:\n",
    "    date = []\n",
    "    openn = []\n",
    "    high = []\n",
    "    low = []\n",
    "    close = []\n",
    "    adj_close = []\n",
    "    volume = []\n",
    "    csv_file = csv.reader(file)\n",
    "    for row in csv_file:\n",
    "        date.append(row[0])\n",
    "        openn.append(row[1])\n",
    "        high.append(row[2])\n",
    "        low.append(row[3])\n",
    "        close.append(row[4])\n",
    "        adj_close.append(row[5])\n",
    "        volume.append(row[6])\n",
    "    print(date[1:11])\n",
    "    print(openn[1:11])\n",
    "    print(high[1:11])\n",
    "    print(low[1:11])\n",
    "    print(close[1:11])\n",
    "    print(adj_close[1:11])\n",
    "    print(volume[1:11])\n",
    "        \n"
   ]
  }
 ],
 "metadata": {
  "kernelspec": {
   "display_name": "Python 3.10.1 64-bit",
   "language": "python",
   "name": "python3"
  },
  "language_info": {
   "codemirror_mode": {
    "name": "ipython",
    "version": 3
   },
   "file_extension": ".py",
   "mimetype": "text/x-python",
   "name": "python",
   "nbconvert_exporter": "python",
   "pygments_lexer": "ipython3",
   "version": "3.10.1"
  },
  "orig_nbformat": 4,
  "vscode": {
   "interpreter": {
    "hash": "e4dc0f147d725ed11c0fe90f83a594f1476427bfe3a425e4102a8fdc0a894ea9"
   }
  }
 },
 "nbformat": 4,
 "nbformat_minor": 2
}
