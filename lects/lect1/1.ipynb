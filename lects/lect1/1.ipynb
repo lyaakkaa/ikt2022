{
 "cells": [
  {
   "cell_type": "code",
   "execution_count": 1,
   "metadata": {},
   "outputs": [
    {
     "name": "stdout",
     "output_type": "stream",
     "text": [
      "77.57009345794393 %\n"
     ]
    }
   ],
   "source": [
    "import csv;\n",
    "\n",
    "number_of_yes = 0\n",
    "total = 0\n",
    "\n",
    "with open(r\"C:\\Users\\leila\\OneDrive\\Рабочий стол\\IKT\\Skills assessment_modified.csv\", \"r\") as file:\n",
    "    csv_file = csv.reader(file)\n",
    "    for row in csv_file:\n",
    "        total += 1\n",
    "        if row[1] == \"Yes\":\n",
    "            number_of_yes += 1\n",
    "\n",
    "print(number_of_yes/total * 100, '%')"
   ]
  },
  {
   "cell_type": "code",
   "execution_count": 1,
   "metadata": {},
   "outputs": [
    {
     "name": "stdout",
     "output_type": "stream",
     "text": [
      "['Horodateur', '2022/09/05 3:17:48 PM UTC+6', '2022/09/05 3:18:22 PM UTC+6', '2022/09/05 3:18:30 PM UTC+6', '2022/09/05 3:18:55 PM UTC+6', '2022/09/05 3:20:12 PM UTC+6', '2022/09/05 3:24:00 PM UTC+6', '2022/09/05 4:06:43 PM UTC+6', '2022/09/05 5:08:40 PM UTC+6', '2022/09/05 5:08:41 PM UTC+6', '2022/09/05 5:09:06 PM UTC+6', '2022/09/05 5:09:06 PM UTC+6', '2022/09/05 5:09:06 PM UTC+6', '2022/09/05 5:09:06 PM UTC+6', '2022/09/05 5:09:07 PM UTC+6', '2022/09/05 5:09:13 PM UTC+6', '2022/09/05 5:09:18 PM UTC+6', '2022/09/05 5:09:24 PM UTC+6', '2022/09/05 5:09:38 PM UTC+6', '2022/09/05 5:09:52 PM UTC+6', '2022/09/05 5:09:56 PM UTC+6', '2022/09/05 5:09:57 PM UTC+6', '2022/09/05 5:10:01 PM UTC+6', '2022/09/05 5:10:07 PM UTC+6', '2022/09/05 5:10:09 PM UTC+6', '2022/09/05 5:10:10 PM UTC+6', '2022/09/05 5:10:17 PM UTC+6', '2022/09/05 5:10:18 PM UTC+6', '2022/09/05 5:10:22 PM UTC+6', '2022/09/05 5:10:23 PM UTC+6', '2022/09/05 5:10:33 PM UTC+6', '2022/09/05 5:10:36 PM UTC+6', '2022/09/05 5:10:37 PM UTC+6', '2022/09/05 5:10:42 PM UTC+6', '2022/09/05 5:10:44 PM UTC+6', '2022/09/05 5:10:50 PM UTC+6', '2022/09/05 5:10:51 PM UTC+6', '2022/09/05 5:10:52 PM UTC+6', '2022/09/05 5:10:53 PM UTC+6', '2022/09/05 5:10:54 PM UTC+6', '2022/09/05 5:11:02 PM UTC+6', '2022/09/05 5:11:03 PM UTC+6', '2022/09/05 5:11:06 PM UTC+6', '2022/09/05 5:11:09 PM UTC+6', '2022/09/05 5:11:10 PM UTC+6', '2022/09/05 5:11:17 PM UTC+6', '2022/09/05 5:11:24 PM UTC+6', '2022/09/05 5:11:28 PM UTC+6', '2022/09/05 5:11:33 PM UTC+6', '2022/09/05 5:11:35 PM UTC+6', '2022/09/05 5:11:38 PM UTC+6', '2022/09/05 5:11:41 PM UTC+6', '2022/09/05 5:11:42 PM UTC+6', '2022/09/05 5:11:44 PM UTC+6', '2022/09/05 5:11:45 PM UTC+6', '2022/09/05 5:11:53 PM UTC+6', '2022/09/05 5:12:02 PM UTC+6', '2022/09/05 5:12:04 PM UTC+6', '2022/09/05 5:12:16 PM UTC+6', '2022/09/05 5:12:23 PM UTC+6', '2022/09/05 5:12:33 PM UTC+6', '2022/09/05 5:12:37 PM UTC+6', '2022/09/05 5:12:53 PM UTC+6', '2022/09/05 5:12:54 PM UTC+6', '2022/09/05 5:13:04 PM UTC+6', '2022/09/05 5:13:08 PM UTC+6', '2022/09/05 5:13:30 PM UTC+6', '2022/09/05 5:13:43 PM UTC+6', '2022/09/05 5:13:47 PM UTC+6', '2022/09/05 5:14:24 PM UTC+6', '2022/09/05 5:14:29 PM UTC+6', '2022/09/05 5:14:42 PM UTC+6', '2022/09/05 5:14:49 PM UTC+6', '2022/09/05 5:15:18 PM UTC+6', '2022/09/05 5:15:21 PM UTC+6', '2022/09/05 5:15:25 PM UTC+6', '2022/09/05 5:16:04 PM UTC+6', '2022/09/05 5:16:08 PM UTC+6', '2022/09/05 5:16:49 PM UTC+6', '2022/09/05 5:17:29 PM UTC+6', '2022/09/05 5:18:54 PM UTC+6', '2022/09/05 5:28:25 PM UTC+6', '2022/09/05 5:31:02 PM UTC+6', '2022/09/05 5:31:58 PM UTC+6', '2022/09/05 6:11:29 PM UTC+6', '2022/09/05 6:23:26 PM UTC+6', '2022/09/05 6:35:48 PM UTC+6', '2022/09/05 6:39:30 PM UTC+6', '2022/09/05 7:03:20 PM UTC+6', '2022/09/05 7:26:31 PM UTC+6', '2022/09/05 7:42:24 PM UTC+6', '2022/09/05 7:58:39 PM UTC+6', '2022/09/05 8:09:45 PM UTC+6', '2022/09/05 8:13:45 PM UTC+6', '2022/09/05 8:36:40 PM UTC+6', '2022/09/05 8:45:37 PM UTC+6', '2022/09/05 9:10:54 PM UTC+6', '2022/09/05 9:13:28 PM UTC+6', '2022/09/05 9:25:23 PM UTC+6', '2022/09/05 9:58:42 PM UTC+6', '2022/09/05 10:09:51 PM UTC+6', '2022/09/05 10:23:34 PM UTC+6', '2022/09/05 11:03:21 PM UTC+6', '2022/09/06 12:00:17 AM UTC+6', '2022/09/06 1:00:44 AM UTC+6', '2022/09/06 1:27:10 AM UTC+6', '2022/09/06 8:17:50 AM UTC+6']\n"
     ]
    }
   ],
   "source": [
    "\n",
    "\n",
    "import csv\n",
    "\n",
    "first_column = []\n",
    "with open(r\"C:\\Users\\leila\\OneDrive\\Рабочий стол\\IKT\\Skills assessment_modified.csv\", \"r\") as csvfile:\n",
    "    csv_read = csv.reader(csvfile)\n",
    "    for row in csv_read:\n",
    "        first_column.append(row[0])\n",
    "print(first_column)\n",
    "\n",
    "\n"
   ]
  },
  {
   "cell_type": "code",
   "execution_count": 6,
   "metadata": {},
   "outputs": [],
   "source": [
    "\n",
    "\n",
    "import xlwt\n",
    "\n",
    "first_column = []\n",
    "with open(r\"C:\\Users\\leila\\OneDrive\\Рабочий стол\\IKT\\Skills assessment_modified.csv\", \"r\") as csvfile:\n",
    "    csv_read = csv.reader(csvfile)\n",
    "    for row in csv_read:\n",
    "        first_column.append(row[0])\n",
    "\n",
    "book = xlwt.Workbook(r\"C:\\Users\\leila\\OneDrive\\Рабочий стол\\IKT\\my_turn.xls\", \"r\")\n",
    "ws = book.add_sheet('result')\n",
    "for i in range(0,len(first_column)):\n",
    "    ws.write(i, 0, first_column[i])\n",
    "book.save(r\"C:\\Users\\leila\\OneDrive\\Рабочий стол\\IKT\\my_turn.xls\")"
   ]
  }
 ],
 "metadata": {
  "kernelspec": {
   "display_name": "Python 3.10.1 64-bit",
   "language": "python",
   "name": "python3"
  },
  "language_info": {
   "codemirror_mode": {
    "name": "ipython",
    "version": 3
   },
   "file_extension": ".py",
   "mimetype": "text/x-python",
   "name": "python",
   "nbconvert_exporter": "python",
   "pygments_lexer": "ipython3",
   "version": "3.10.1 (tags/v3.10.1:2cd268a, Dec  6 2021, 19:10:37) [MSC v.1929 64 bit (AMD64)]"
  },
  "orig_nbformat": 4,
  "vscode": {
   "interpreter": {
    "hash": "e4dc0f147d725ed11c0fe90f83a594f1476427bfe3a425e4102a8fdc0a894ea9"
   }
  }
 },
 "nbformat": 4,
 "nbformat_minor": 2
}
