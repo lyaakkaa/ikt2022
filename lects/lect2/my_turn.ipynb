{
 "cells": [
  {
   "cell_type": "code",
   "execution_count": 3,
   "metadata": {},
   "outputs": [
    {
     "name": "stdout",
     "output_type": "stream",
     "text": [
      "Empty DataFrame\n",
      "Columns: []\n",
      "Index: []\n"
     ]
    }
   ],
   "source": [
    "import pandas as pd\n",
    "\n",
    "quiz1, quiz2, quiz3, quiz4, mid, end = [], [], [], [], [], []\n",
    "\n",
    "st1, st2, st3 = [15, 16, 20, 76, 12, 14], [25, 67, 45, 12, 98, 87], [31, 87, 100, 12, 12, 12]\n",
    "dictio = {'quiz1' : quiz1, 'quiz2' : quiz2, 'quiz3' : quiz3, 'quiz4' : quiz4, 'mid' : mid, 'end' : end}\n",
    "# print(dictio)\n",
    "df = pd.DataFrame(dictio)\n",
    "df = pd.DataFrame()\n",
    "print(df)\n",
    "\n"
   ]
  },
  {
   "cell_type": "code",
   "execution_count": null,
   "metadata": {},
   "outputs": [],
   "source": [
    "import pandas as pd\n",
    "\n",
    "open(r\"C:\\Users\\leila\\OneDrive\\Рабочий стол\\IKT\\practice1\\CL.csv\", 'r') as"
   ]
  }
 ],
 "metadata": {
  "kernelspec": {
   "display_name": "Python 3.10.1 64-bit",
   "language": "python",
   "name": "python3"
  },
  "language_info": {
   "codemirror_mode": {
    "name": "ipython",
    "version": 3
   },
   "file_extension": ".py",
   "mimetype": "text/x-python",
   "name": "python",
   "nbconvert_exporter": "python",
   "pygments_lexer": "ipython3",
   "version": "3.10.1"
  },
  "orig_nbformat": 4,
  "vscode": {
   "interpreter": {
    "hash": "e4dc0f147d725ed11c0fe90f83a594f1476427bfe3a425e4102a8fdc0a894ea9"
   }
  }
 },
 "nbformat": 4,
 "nbformat_minor": 2
}
