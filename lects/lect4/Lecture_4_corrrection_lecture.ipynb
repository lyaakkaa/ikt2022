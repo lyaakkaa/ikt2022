{
 "cells": [
  {
   "cell_type": "markdown",
   "metadata": {},
   "source": [
    "# API"
   ]
  },
  {
   "cell_type": "code",
   "execution_count": null,
   "metadata": {},
   "outputs": [],
   "source": [
    "#install the requests package: pip install requests"
   ]
  },
  {
   "cell_type": "code",
   "execution_count": 5,
   "metadata": {},
   "outputs": [
    {
     "name": "stdout",
     "output_type": "stream",
     "text": [
      "2.27.1\n"
     ]
    }
   ],
   "source": [
    "#Import the package requests\n",
    "import requests\n",
    "print(requests.__version__)\n"
   ]
  },
  {
   "cell_type": "code",
   "execution_count": 6,
   "metadata": {},
   "outputs": [
    {
     "name": "stdout",
     "output_type": "stream",
     "text": [
      "<Response [200]>\n",
      "b'{\"results\":[{\"gender\":\"female\",\"name\":{\"title\":\"Miss\",\"first\":\"Kimberly\",\"last\":\"Macrae\"},\"location\":{\"street\":{\"number\":7281,\"name\":\"The Drive\"},\"city\":\"Bath\",\"state\":\"West Midlands\",\"country\":\"United Kingdom\",\"postcode\":\"CV61 0RU\",\"coordinates\":{\"latitude\":\"-9.9900\",\"longitude\":\"101.9207\"},\"timezone\":{\"offset\":\"+4:00\",\"description\":\"Abu Dhabi, Muscat, Baku, Tbilisi\"}},\"email\":\"kimberly.macrae@example.com\",\"login\":{\"uuid\":\"983abd0e-611e-4048-9161-a1e455384425\",\"username\":\"beautifulostrich180\",\"password\":\"highway\",\"salt\":\"gf4arHhh\",\"md5\":\"550428b5de1216717da30b0641ca6fb8\",\"sha1\":\"f2affdae6b31d4025868eb69f747a1ef31d551d5\",\"sha256\":\"de3641bbf7a3edfcc24b899c6b270b9ffdc2f18b9d77f533f39d9c603c985d7d\"},\"dob\":{\"date\":\"1994-05-03T08:33:44.467Z\",\"age\":28},\"registered\":{\"date\":\"2007-07-14T11:23:31.876Z\",\"age\":15},\"phone\":\"016977 31965\",\"cell\":\"07498 120660\",\"id\":{\"name\":\"NINO\",\"value\":\"HA 01 76 45 X\"},\"picture\":{\"large\":\"https://randomuser.me/api/portraits/women/33.jpg\",\"medium\":\"https://randomuser.me/api/portraits/med/women/33.jpg\",\"thumbnail\":\"https://randomuser.me/api/portraits/thumb/women/33.jpg\"},\"nat\":\"GB\"}],\"info\":{\"seed\":\"8b26c2940d26afa9\",\"results\":1,\"page\":1,\"version\":\"1.4\"}}'\n"
     ]
    }
   ],
   "source": [
    "#Calling the API of randomuser.me website (address is \"https://randomuser.me/api/\")\n",
    "response = requests.get(\"https://randomuser.me/api/\")\n",
    "print(response)\n",
    "print(response.content)"
   ]
  },
  {
   "cell_type": "code",
   "execution_count": 3,
   "metadata": {
    "scrolled": true
   },
   "outputs": [
    {
     "name": "stdout",
     "output_type": "stream",
     "text": [
      "{\"results\":[{\"gender\":\"female\",\"name\":{\"title\":\"Mrs\",\"first\":\"Amy\",\"last\":\"Røberg\"},\"location\":{\"street\":{\"number\":824,\"name\":\"Nils Collett Vogts vei\"},\"city\":\"Gladstad\",\"state\":\"Aust-Agder\",\"country\":\"Norway\",\"postcode\":\"1005\",\"coordinates\":{\"latitude\":\"42.1096\",\"longitude\":\"145.1710\"},\"timezone\":{\"offset\":\"+8:00\",\"description\":\"Beijing, Perth, Singapore, Hong Kong\"}},\"email\":\"amy.roberg@example.com\",\"login\":{\"uuid\":\"1b8d1931-b08d-4f73-b75d-0e5f4135c395\",\"username\":\"ticklishbird941\",\"password\":\"forfun\",\"salt\":\"cIZ0ElRC\",\"md5\":\"667f829fbd02df089dc050e86d1911e1\",\"sha1\":\"8c11e9615696ca15d3a514e118ddc345034509c4\",\"sha256\":\"db8a3e86e2b0e15135135650eee2630e6194479c6071e1555553da1e39b0b497\"},\"dob\":{\"date\":\"1965-10-19T10:41:59.030Z\",\"age\":57},\"registered\":{\"date\":\"2021-12-02T17:36:40.012Z\",\"age\":1},\"phone\":\"22371538\",\"cell\":\"42419832\",\"id\":{\"name\":\"FN\",\"value\":\"19106502873\"},\"picture\":{\"large\":\"https://randomuser.me/api/portraits/women/28.jpg\",\"medium\":\"https://randomuser.me/api/portraits/med/women/28.jpg\",\"thumbnail\":\"https://randomuser.me/api/portraits/thumb/women/28.jpg\"},\"nat\":\"NO\"}],\"info\":{\"seed\":\"2f18fa9ba166356b\",\"results\":1,\"page\":1,\"version\":\"1.4\"}}\n"
     ]
    }
   ],
   "source": [
    "#Check the text in the reponse\n",
    "print(response.text)"
   ]
  },
  {
   "cell_type": "code",
   "execution_count": 4,
   "metadata": {},
   "outputs": [
    {
     "name": "stdout",
     "output_type": "stream",
     "text": [
      "{\"message\":\"The Dog API\",\"version\":\"1.2.0\"}\n"
     ]
    }
   ],
   "source": [
    "#The dog API connection (https://api.thedogapi.com/)\n",
    "response = requests.get(\"https://api.thedogapi.com/\")\n",
    "print(response.text)"
   ]
  },
  {
   "cell_type": "code",
   "execution_count": null,
   "metadata": {
    "scrolled": true
   },
   "outputs": [],
   "source": [
    "#Connecting to an Endpoint\n",
    "import requests\n",
    "response = requests.get(\"https://api.thedogapi.com/v1/breeds\")\n",
    "print(response.text)"
   ]
  },
  {
   "cell_type": "code",
   "execution_count": 6,
   "metadata": {},
   "outputs": [
    {
     "name": "stdout",
     "output_type": "stream",
     "text": [
      "[{\"id\":\"MjAxMTk1Mw\",\"url\":\"https://cdn2.thecatapi.com/images/MjAxMTk1Mw.jpg\",\"width\":450,\"height\":600}]\n"
     ]
    }
   ],
   "source": [
    "# YOUR TURN\n",
    "# Connect to TheCatApi through the url : https://api.thecatapi.com/ \n",
    "# Check in the documentation how to get a random picture of a cat\n",
    "# Make the calling and print the text of the answer\n",
    "#10 minutes\n",
    "\n",
    "resp = requests.get(\"https://api.thecatapi.com/v1/images/search\")\n",
    "print(resp.text)"
   ]
  },
  {
   "cell_type": "code",
   "execution_count": 8,
   "metadata": {
    "scrolled": true
   },
   "outputs": [
    {
     "name": "stdout",
     "output_type": "stream",
     "text": [
      "<PreparedRequest [GET]>\n",
      "https://api.thecatapi.com/v1/images/search\n",
      "/v1/images/search\n",
      "GET\n",
      "{'User-Agent': 'python-requests/2.27.1', 'Accept-Encoding': 'gzip, deflate', 'Accept': '*/*', 'Connection': 'keep-alive'}\n"
     ]
    }
   ],
   "source": [
    "#Some information about a request\n",
    "#response.request\n",
    "#.url\n",
    "#.path_url\n",
    "#.method\n",
    "#.headers\n",
    "\n",
    "resp = requests.get(\"https://api.thecatapi.com/v1/images/search\")\n",
    "print(resp.request)\n",
    "print(resp.request.url)\n",
    "print(resp.request.path_url)\n",
    "print(resp.request.method)\n",
    "print(resp.request.headers)"
   ]
  },
  {
   "cell_type": "code",
   "execution_count": 9,
   "metadata": {},
   "outputs": [
    {
     "name": "stdout",
     "output_type": "stream",
     "text": [
      "https://api.thecatapi.com/v1/images/search\n",
      "200\n",
      "OK\n",
      "{'x-dns-prefetch-control': 'off', 'x-frame-options': 'SAMEORIGIN', 'strict-transport-security': 'max-age=15552000; includeSubDomains', 'x-download-options': 'noopen', 'x-content-type-options': 'nosniff', 'x-xss-protection': '1; mode=block', 'vary': 'Origin', 'expires': 'Tue, 03 Jul 2001 06:00:00 GMT', 'last-modified': 'Fri Dec 23 2022 18:32:04 GMT+0000 (Coordinated Universal Time)', 'cache-control': 'post-check=0, pre-check=0', 'authenticated': 'false', 'content-type': 'application/json; charset=utf-8', 'x-response-time': '3ms', 'X-Cloud-Trace-Context': 'e5f99053c1f04b87e77868b09a317057', 'Date': 'Fri, 23 Dec 2022 18:32:04 GMT', 'Server': 'Google Frontend', 'Content-Length': '89'}\n"
     ]
    }
   ],
   "source": [
    "#Some information about a response\n",
    "#.text\n",
    "#.status_code\n",
    "#.reason\n",
    "#.headers\n",
    "resp = requests.get(\"https://api.thecatapi.com/v1/images/search\")\n",
    "print(resp.url)\n",
    "print(resp.status_code)\n",
    "print(resp.reason)\n",
    "print(resp.headers)"
   ]
  },
  {
   "cell_type": "code",
   "execution_count": 10,
   "metadata": {},
   "outputs": [
    {
     "name": "stdout",
     "output_type": "stream",
     "text": [
      "<Response [404]>\n"
     ]
    }
   ],
   "source": [
    "#Let's get other response than 200\n",
    "\n",
    "resp = requests.get(\"https://api.thecatapi.com/images/searc\")\n",
    "print(resp)"
   ]
  },
  {
   "cell_type": "code",
   "execution_count": 11,
   "metadata": {
    "scrolled": false
   },
   "outputs": [],
   "source": [
    "#check headers of the response and the request\n",
    "\n",
    "\n",
    "resp = requests.get(\"https://api.thecatapi.com/v1/images/search\")\n"
   ]
  },
  {
   "cell_type": "code",
   "execution_count": 14,
   "metadata": {},
   "outputs": [
    {
     "name": "stdout",
     "output_type": "stream",
     "text": [
      "{'User-Agent': 'python-requests/2.27.1', 'Accept-Encoding': 'gzip, deflate', 'Accept': '*/*', 'Connection': 'keep-alive'}\n",
      "{'x-dns-prefetch-control': 'off', 'x-frame-options': 'SAMEORIGIN', 'strict-transport-security': 'max-age=15552000; includeSubDomains', 'x-download-options': 'noopen', 'x-content-type-options': 'nosniff', 'x-xss-protection': '1; mode=block', 'vary': 'Origin', 'expires': 'Tue, 03 Jul 2001 06:00:00 GMT', 'last-modified': 'Fri Dec 23 2022 18:32:56 GMT+0000 (Coordinated Universal Time)', 'cache-control': 'post-check=0, pre-check=0', 'authenticated': 'false', 'content-type': 'application/json; charset=utf-8', 'x-response-time': '2ms', 'X-Cloud-Trace-Context': '71f2c67096fba93fcad8de36af66e943', 'Date': 'Fri, 23 Dec 2022 18:32:56 GMT', 'Server': 'Google Frontend', 'Content-Length': '89'}\n"
     ]
    }
   ],
   "source": [
    "#Print headers of server and client\n",
    "print(resp.request.headers)\n",
    "print(resp.headers)"
   ]
  },
  {
   "cell_type": "code",
   "execution_count": 15,
   "metadata": {},
   "outputs": [
    {
     "name": "stdout",
     "output_type": "stream",
     "text": [
      "{'User-Agent': 'Mozilla/5.0 (Windows NT 10.0; Win64; x64; rv:104.0) Gecko/20100101 Firefox/104.0', 'Accept-Encoding': 'gzip, deflate', 'Accept': '*/*', 'Connection': 'keep-alive'}\n"
     ]
    }
   ],
   "source": [
    "#Create your own headers\n",
    "#make a request with your own headers\n",
    "headers = {'User-Agent' : 'Mozilla/5.0 (Windows NT 10.0; Win64; x64; rv:104.0) Gecko/20100101 Firefox/104.0'}\n",
    "url = 'https://api.thecatapi.com/v1/images/search'\n",
    "resp = requests.get(url, headers = headers)\n",
    "print(resp.request.headers)"
   ]
  },
  {
   "cell_type": "code",
   "execution_count": 16,
   "metadata": {},
   "outputs": [
    {
     "name": "stdout",
     "output_type": "stream",
     "text": [
      "{'Date': 'Fri, 23 Dec 2022 18:33:56 GMT', 'Content-Type': 'image/jpeg', 'Content-Length': '216617', 'Connection': 'keep-alive', 'last-modified': 'Thu, 27 Sep 2018 01:08:39 GMT', 'etag': '\"bc4f938d4f2a0ddfb18508cb1f16a525\"', 'x-cache': 'Hit from cloudfront', 'via': '1.1 45ff2040e09b26d7b6a62f48718e1406.cloudfront.net (CloudFront)', 'x-amz-cf-pop': 'HEL51-P1', 'x-amz-cf-id': 'OMFNRFjrV-u18nxrWhSPVCxefcePqCHrZTrx3VdwUyFs0rCOONGKWA==', 'Cache-Control': 'max-age=14400', 'CF-Cache-Status': 'REVALIDATED', 'Accept-Ranges': 'bytes', 'Report-To': '{\"endpoints\":[{\"url\":\"https:\\\\/\\\\/a.nel.cloudflare.com\\\\/report\\\\/v3?s=1PX8R3WajRCbD3TuwBkxBu49NsJa9%2BjsH7NUVGApA6ezRuKyv9bqC0XPl85L%2FqKFqaeuPOFoNySsPetCA1j%2FxmR9AUUN5hy1IT6jFVKuVTaHmZODQV5208gRwoGkR5b0FQpn1Jg%3D\"}],\"group\":\"cf-nel\",\"max_age\":604800}', 'NEL': '{\"success_fraction\":0,\"report_to\":\"cf-nel\",\"max_age\":604800}', 'Vary': 'Accept-Encoding', 'Server': 'cloudflare', 'CF-RAY': '77e3303bde7cbca0-ALA', 'alt-svc': 'h3=\":443\"; ma=86400, h3-29=\":443\"; ma=86400'}\n"
     ]
    }
   ],
   "source": [
    "headers = {'User-Agent' : 'Mozilla/5.0 (Windows NT 10.0; Win64; x64; rv:104.0) Gecko/20100101 Firefox/104.0'}\n",
    "url = 'https://cdn2.thecatapi.com/images/d8k.jpg'\n",
    "resp = requests.get(url, headers = headers)\n",
    "print(resp.headers)"
   ]
  },
  {
   "cell_type": "code",
   "execution_count": 17,
   "metadata": {},
   "outputs": [
    {
     "name": "stdout",
     "output_type": "stream",
     "text": [
      "[{'id': 'bbc', 'url': 'https://cdn2.thecatapi.com/images/bbc.png', 'width': 400, 'height': 295}]\n",
      "https://cdn2.thecatapi.com/images/bbc.png\n"
     ]
    }
   ],
   "source": [
    "#The differents methods of the response\n",
    "headers = {'User-Agent' : 'Mozilla/5.0 (Windows NT 10.0; Win64; x64; rv:104.0) Gecko/20100101 Firefox/104.0'}\n",
    "url = 'https://api.thecatapi.com/v1/images/search'\n",
    "resp = requests.get(url, headers = headers)\n",
    "resp_json = resp.json()\n",
    "print(resp_json)\n",
    "print(resp_json[0]['url'])"
   ]
  },
  {
   "cell_type": "code",
   "execution_count": 18,
   "metadata": {},
   "outputs": [
    {
     "name": "stdout",
     "output_type": "stream",
     "text": [
      "<Response [401]>\n"
     ]
    }
   ],
   "source": [
    "#The different content type\n",
    "url = 'https://api.thecatapi.com/v1/images/search'\n",
    "resp = requests.delete(url)\n",
    "print(resp)"
   ]
  },
  {
   "cell_type": "code",
   "execution_count": 19,
   "metadata": {},
   "outputs": [
    {
     "name": "stdout",
     "output_type": "stream",
     "text": [
      "[{'weight': {'imperial': '45 - 100', 'metric': '20 - 45'}, 'height': {'imperial': '14 - 24', 'metric': '36 - 61'}, 'id': 148, 'name': 'Labradoodle', 'breed_group': 'Mixed', 'life_span': '10 - 15 years'}]\n"
     ]
    }
   ],
   "source": [
    "query_params = {\"q\": \"labradoodle\"}\n",
    "url = \"https://api.thedogapi.com/v1/breeds/search\"\n",
    "resp = requests.get(url, params=query_params).json()\n",
    "print(resp)"
   ]
  },
  {
   "cell_type": "code",
   "execution_count": null,
   "metadata": {},
   "outputs": [],
   "source": []
  },
  {
   "cell_type": "code",
   "execution_count": 21,
   "metadata": {},
   "outputs": [
    {
     "name": "stdout",
     "output_type": "stream",
     "text": [
      "<Response [200]>\n"
     ]
    }
   ],
   "source": [
    "#Request an image\n",
    "url = 'https://cdn2.thecatapi.com/images/250.jpg'\n",
    "resp = requests.get(url)\n",
    "print(resp)\n"
   ]
  },
  {
   "cell_type": "code",
   "execution_count": 22,
   "metadata": {},
   "outputs": [
    {
     "ename": "FileNotFoundError",
     "evalue": "[Errno 2] No such file or directory: 'D:\\\\KBTU\\\\2022-2023\\\\Python Course\\\\Course\\\\Lecture\\\\Lecture_4\\\\cute_cat.jpg'",
     "output_type": "error",
     "traceback": [
      "\u001b[1;31m---------------------------------------------------------------------------\u001b[0m",
      "\u001b[1;31mFileNotFoundError\u001b[0m                         Traceback (most recent call last)",
      "\u001b[1;32mc:\\Users\\leila\\OneDrive\\Рабочий стол\\IKT\\lects\\lect4\\Lecture_4_corrrection_lecture.ipynb Cell 21\u001b[0m in \u001b[0;36m<cell line: 2>\u001b[1;34m()\u001b[0m\n\u001b[0;32m      <a href='vscode-notebook-cell:/c%3A/Users/leila/OneDrive/%D0%A0%D0%B0%D0%B1%D0%BE%D1%87%D0%B8%D0%B9%20%D1%81%D1%82%D0%BE%D0%BB/IKT/lects/lect4/Lecture_4_corrrection_lecture.ipynb#X26sZmlsZQ%3D%3D?line=0'>1</a>\u001b[0m \u001b[39m#Save the image\u001b[39;00m\n\u001b[1;32m----> <a href='vscode-notebook-cell:/c%3A/Users/leila/OneDrive/%D0%A0%D0%B0%D0%B1%D0%BE%D1%87%D0%B8%D0%B9%20%D1%81%D1%82%D0%BE%D0%BB/IKT/lects/lect4/Lecture_4_corrrection_lecture.ipynb#X26sZmlsZQ%3D%3D?line=1'>2</a>\u001b[0m \u001b[39mwith\u001b[39;00m \u001b[39mopen\u001b[39;49m(\u001b[39mr\u001b[39;49m\u001b[39m\"\u001b[39;49m\u001b[39mD:\u001b[39;49m\u001b[39m\\\u001b[39;49m\u001b[39mKBTU\u001b[39;49m\u001b[39m\\\u001b[39;49m\u001b[39m2022-2023\u001b[39;49m\u001b[39m\\\u001b[39;49m\u001b[39mPython Course\u001b[39;49m\u001b[39m\\\u001b[39;49m\u001b[39mCourse\u001b[39;49m\u001b[39m\\\u001b[39;49m\u001b[39mLecture\u001b[39;49m\u001b[39m\\\u001b[39;49m\u001b[39mLecture_4\u001b[39;49m\u001b[39m\\\u001b[39;49m\u001b[39mcute_cat.jpg\u001b[39;49m\u001b[39m\"\u001b[39;49m, \u001b[39m'\u001b[39;49m\u001b[39mwb\u001b[39;49m\u001b[39m'\u001b[39;49m) \u001b[39mas\u001b[39;00m file:\n\u001b[0;32m      <a href='vscode-notebook-cell:/c%3A/Users/leila/OneDrive/%D0%A0%D0%B0%D0%B1%D0%BE%D1%87%D0%B8%D0%B9%20%D1%81%D1%82%D0%BE%D0%BB/IKT/lects/lect4/Lecture_4_corrrection_lecture.ipynb#X26sZmlsZQ%3D%3D?line=2'>3</a>\u001b[0m     file\u001b[39m.\u001b[39mwrite(resp\u001b[39m.\u001b[39mcontent)\n",
      "\u001b[1;31mFileNotFoundError\u001b[0m: [Errno 2] No such file or directory: 'D:\\\\KBTU\\\\2022-2023\\\\Python Course\\\\Course\\\\Lecture\\\\Lecture_4\\\\cute_cat.jpg'"
     ]
    }
   ],
   "source": [
    "#Save the image\n",
    "with open(r\"D:\\KBTU\\2022-2023\\Python Course\\Course\\Lecture\\Lecture_4\\cute_cat.jpg\", 'wb') as file:\n",
    "    file.write(resp.content)\n",
    "    "
   ]
  },
  {
   "cell_type": "code",
   "execution_count": 23,
   "metadata": {},
   "outputs": [
    {
     "name": "stdout",
     "output_type": "stream",
     "text": [
      "{\"results\":[{\"gender\":\"male\",\"name\":{\"title\":\"Mr\",\"first\":\"Soren\",\"last\":\"Roche\"},\"location\":{\"street\":{\"number\":4566,\"name\":\"Rue Laure-Diebold\"},\"city\":\"Tourcoing\",\"state\":\"Lot-et-Garonne\",\"country\":\"France\",\"postcode\":85657,\"coordinates\":{\"latitude\":\"-16.9154\",\"longitude\":\"139.6453\"},\"timezone\":{\"offset\":\"+3:00\",\"description\":\"Baghdad, Riyadh, Moscow, St. Petersburg\"}},\"email\":\"soren.roche@example.com\",\"login\":{\"uuid\":\"e87ee9d2-5467-4179-b0f5-0afa87480949\",\"username\":\"angrywolf394\",\"password\":\"weird\",\"salt\":\"ivtzEfDJ\",\"md5\":\"21781c6f6fac1b06a4678675d079cbfb\",\"sha1\":\"2d114f3236102f7f89309eb6610643faf4a956bd\",\"sha256\":\"a86d76ef70cd9a825ff13b955eb4acc005c31b251cea09f2f4ee6ba3eaa28088\"},\"dob\":{\"date\":\"1947-11-14T14:39:23.920Z\",\"age\":75},\"registered\":{\"date\":\"2015-09-19T07:49:54.316Z\",\"age\":7},\"phone\":\"04-54-25-05-25\",\"cell\":\"06-60-37-76-30\",\"id\":{\"name\":\"INSEE\",\"value\":\"1471091149689 85\"},\"picture\":{\"large\":\"https://randomuser.me/api/portraits/men/97.jpg\",\"medium\":\"https://randomuser.me/api/portraits/med/men/97.jpg\",\"thumbnail\":\"https://randomuser.me/api/portraits/thumb/men/97.jpg\"},\"nat\":\"FR\"}],\"info\":{\"seed\":\"2e407943bac9df08\",\"results\":1,\"page\":1,\"version\":\"1.4\"}}\n"
     ]
    }
   ],
   "source": [
    "#The use of a query parameter to specify your request\n",
    "url = \"https://randomuser.me/api?gender=male\"\n",
    "resp = requests.get(url)\n",
    "print(resp.text)"
   ]
  },
  {
   "cell_type": "code",
   "execution_count": 24,
   "metadata": {},
   "outputs": [
    {
     "name": "stdout",
     "output_type": "stream",
     "text": [
      "{\"results\":[{\"gender\":\"male\",\"name\":{\"title\":\"Mr\",\"first\":\"Lucien\",\"last\":\"Clement\"},\"location\":{\"street\":{\"number\":2193,\"name\":\"Rue Gasparin\"},\"city\":\"Montreuil\",\"state\":\"Meurthe-et-Moselle\",\"country\":\"France\",\"postcode\":55091,\"coordinates\":{\"latitude\":\"-41.5857\",\"longitude\":\"12.0388\"},\"timezone\":{\"offset\":\"+4:00\",\"description\":\"Abu Dhabi, Muscat, Baku, Tbilisi\"}},\"email\":\"lucien.clement@example.com\",\"login\":{\"uuid\":\"2a3e8a88-0aad-4ca1-a31a-e37bcc007aee\",\"username\":\"bluebutterfly683\",\"password\":\"groove\",\"salt\":\"FaQO2VMg\",\"md5\":\"6e1daea725a216701dfadea8d0fab9ea\",\"sha1\":\"e514cc0270a8315a88ed6975da268866faa5de0c\",\"sha256\":\"67b4973d4bbcda611ec54b97f632486b7ea1e387a3e90e411f3f1c00563eaeba\"},\"dob\":{\"date\":\"1994-05-13T16:17:39.731Z\",\"age\":28},\"registered\":{\"date\":\"2006-06-04T15:36:41.189Z\",\"age\":16},\"phone\":\"04-77-00-46-98\",\"cell\":\"06-02-54-28-34\",\"id\":{\"name\":\"INSEE\",\"value\":\"1940403527560 06\"},\"picture\":{\"large\":\"https://randomuser.me/api/portraits/men/48.jpg\",\"medium\":\"https://randomuser.me/api/portraits/med/men/48.jpg\",\"thumbnail\":\"https://randomuser.me/api/portraits/thumb/men/48.jpg\"},\"nat\":\"FR\"}],\"info\":{\"seed\":\"61f8cb034111e05d\",\"results\":1,\"page\":1,\"version\":\"1.4\"}}\n"
     ]
    }
   ],
   "source": [
    "# YOUR TURN\n",
    "# Use the api for rendomuser.me to generat only male from nat : 'FR'\n",
    "# 10 minutes\n",
    "url = \"https://randomuser.me/api?gender=male&nat=FR\"\n",
    "resp = requests.get(url)\n",
    "print(resp.text)"
   ]
  },
  {
   "cell_type": "code",
   "execution_count": null,
   "metadata": {},
   "outputs": [],
   "source": []
  },
  {
   "cell_type": "code",
   "execution_count": 25,
   "metadata": {
    "scrolled": true
   },
   "outputs": [
    {
     "name": "stdout",
     "output_type": "stream",
     "text": [
      "b'{\"results\":[{\"gender\":\"male\",\"name\":{\"title\":\"Mr\",\"first\":\"L\\xc3\\xa9andro\",\"last\":\"Olivier\"},\"location\":{\"street\":{\"number\":838,\"name\":\"Grande Rue\"},\"city\":\"Versailles\",\"state\":\"Hautes-Alpes\",\"country\":\"France\",\"postcode\":74435,\"coordinates\":{\"latitude\":\"-4.9421\",\"longitude\":\"22.7385\"},\"timezone\":{\"offset\":\"-5:00\",\"description\":\"Eastern Time (US & Canada), Bogota, Lima\"}},\"email\":\"leandro.olivier@example.com\",\"login\":{\"uuid\":\"c312f7b1-5800-433f-86f7-19df95c10f12\",\"username\":\"happywolf505\",\"password\":\"112233\",\"salt\":\"fwHbbon7\",\"md5\":\"c36b4fb67b00445ceb9b520a34f24496\",\"sha1\":\"9107ae455a2ce38305d2ddf51cf203a0ec75ba16\",\"sha256\":\"4dd247e596cae9af9380ae9839481ba9c4487acc598c23cf5e87c4a3a321dca8\"},\"dob\":{\"date\":\"1948-11-26T22:46:11.277Z\",\"age\":74},\"registered\":{\"date\":\"2014-10-17T22:15:17.681Z\",\"age\":8},\"phone\":\"05-53-80-09-11\",\"cell\":\"06-09-01-41-83\",\"id\":{\"name\":\"INSEE\",\"value\":\"1481074434187 13\"},\"picture\":{\"large\":\"https://randomuser.me/api/portraits/men/87.jpg\",\"medium\":\"https://randomuser.me/api/portraits/med/men/87.jpg\",\"thumbnail\":\"https://randomuser.me/api/portraits/thumb/men/87.jpg\"},\"nat\":\"FR\"}],\"info\":{\"seed\":\"fad75c37f8876a69\",\"results\":1,\"page\":1,\"version\":\"1.4\"}}'\n"
     ]
    }
   ],
   "source": [
    "#use a dictionary to for query parameters\n",
    "headers = {'User-Agent' : 'Mozilla/5.0 (Windows NT 10.0; Win64; x64; rv:104.0) Gecko/20100101 Firefox/104.0'}\n",
    "dictio = {\n",
    "    'gender' : 'male', \n",
    "    'nat' : 'FR'\n",
    "}\n",
    "url = \"https://randomuser.me/api\"\n",
    "resp = requests.get(url, params = dictio, headers = headers)\n",
    "print(resp.content)"
   ]
  },
  {
   "cell_type": "code",
   "execution_count": null,
   "metadata": {},
   "outputs": [],
   "source": []
  },
  {
   "cell_type": "code",
   "execution_count": 26,
   "metadata": {
    "scrolled": false
   },
   "outputs": [
    {
     "name": "stdout",
     "output_type": "stream",
     "text": [
      "{\"photos\":[{\"id\":754118,\"sol\":2809,\"camera\":{\"id\":20,\"name\":\"FHAZ\",\"rover_id\":5,\"full_name\":\"Front Hazard Avoidance Camera\"},\"img_src\":\"https://mars.nasa.gov/msl-raw-images/proj/msl/redops/ods/surface/sol/02809/opgs/edr/fcam/FLB_646868981EDR_F0810628FHAZ00337M_.JPG\",\"earth_date\":\"2020-07-01\",\"rover\":{\"id\":5,\"name\":\"Curiosity\",\"landing_date\":\"2012-08-06\",\"launch_date\":\"2011-11-26\",\"status\":\"active\"}},{\"id\":754119,\"sol\":2809,\"camera\":{\"id\":20,\"name\":\"FHAZ\",\"rover_id\":5,\"full_name\":\"Front Hazard Avoidance Camera\"},\"img_src\":\"https://mars.nasa.gov/msl-raw-images/proj/msl/redops/ods/surface/sol/02809/opgs/edr/fcam/FRB_646868981EDR_F0810628FHAZ00337M_.JPG\",\"earth_date\":\"2020-07-01\",\"rover\":{\"id\":5,\"name\":\"Curiosity\",\"landing_date\":\"2012-08-06\",\"launch_date\":\"2011-11-26\",\"status\":\"active\"}},{\"id\":754120,\"sol\":2809,\"camera\":{\"id\":20,\"name\":\"FHAZ\",\"rover_id\":5,\"full_name\":\"Front Hazard Avoidance Camera\"},\"img_src\":\"https://mars.nasa.gov/msl-raw-images/proj/msl/redops/ods/surface/sol/02809/opgs/edr/fcam/FRB_646860144EDR_F0810628FHAZ00337M_.JPG\",\"earth_date\":\"2020-07-01\",\"rover\":{\"id\":5,\"name\":\"Curiosity\",\"landing_date\":\"2012-08-06\",\"launch_date\":\"2011-11-26\",\"status\":\"active\"}},{\"id\":754121,\"sol\":2809,\"camera\":{\"id\":20,\"name\":\"FHAZ\",\"rover_id\":5,\"full_name\":\"Front Hazard Avoidance Camera\"},\"img_src\":\"https://mars.nasa.gov/msl-raw-images/proj/msl/redops/ods/surface/sol/02809/opgs/edr/fcam/FLB_646860144EDR_F0810628FHAZ00337M_.JPG\",\"earth_date\":\"2020-07-01\",\"rover\":{\"id\":5,\"name\":\"Curiosity\",\"landing_date\":\"2012-08-06\",\"launch_date\":\"2011-11-26\",\"status\":\"active\"}},{\"id\":754122,\"sol\":2809,\"camera\":{\"id\":21,\"name\":\"RHAZ\",\"rover_id\":5,\"full_name\":\"Rear Hazard Avoidance Camera\"},\"img_src\":\"https://mars.nasa.gov/msl-raw-images/proj/msl/redops/ods/surface/sol/02809/opgs/edr/rcam/RRB_646869036EDR_F0810628RHAZ00337M_.JPG\",\"earth_date\":\"2020-07-01\",\"rover\":{\"id\":5,\"name\":\"Curiosity\",\"landing_date\":\"2012-08-06\",\"launch_date\":\"2011-11-26\",\"status\":\"active\"}},{\"id\":754123,\"sol\":2809,\"camera\":{\"id\":21,\"name\":\"RHAZ\",\"rover_id\":5,\"full_name\":\"Rear Hazard Avoidance Camera\"},\"img_src\":\"https://mars.nasa.gov/msl-raw-images/proj/msl/redops/ods/surface/sol/02809/opgs/edr/rcam/RLB_646869036EDR_F0810628RHAZ00337M_.JPG\",\"earth_date\":\"2020-07-01\",\"rover\":{\"id\":5,\"name\":\"Curiosity\",\"landing_date\":\"2012-08-06\",\"launch_date\":\"2011-11-26\",\"status\":\"active\"}},{\"id\":754124,\"sol\":2809,\"camera\":{\"id\":21,\"name\":\"RHAZ\",\"rover_id\":5,\"full_name\":\"Rear Hazard Avoidance Camera\"},\"img_src\":\"https://mars.nasa.gov/msl-raw-images/proj/msl/redops/ods/surface/sol/02809/opgs/edr/rcam/RRB_646860185EDR_F0810628RHAZ00337M_.JPG\",\"earth_date\":\"2020-07-01\",\"rover\":{\"id\":5,\"name\":\"Curiosity\",\"landing_date\":\"2012-08-06\",\"launch_date\":\"2011-11-26\",\"status\":\"active\"}},{\"id\":754125,\"sol\":2809,\"camera\":{\"id\":21,\"name\":\"RHAZ\",\"rover_id\":5,\"full_name\":\"Rear Hazard Avoidance Camera\"},\"img_src\":\"https://mars.nasa.gov/msl-raw-images/proj/msl/redops/ods/surface/sol/02809/opgs/edr/rcam/RLB_646860185EDR_F0810628RHAZ00337M_.JPG\",\"earth_date\":\"2020-07-01\",\"rover\":{\"id\":5,\"name\":\"Curiosity\",\"landing_date\":\"2012-08-06\",\"launch_date\":\"2011-11-26\",\"status\":\"active\"}},{\"id\":754126,\"sol\":2809,\"camera\":{\"id\":26,\"name\":\"NAVCAM\",\"rover_id\":5,\"full_name\":\"Navigation Camera\"},\"img_src\":\"https://mars.nasa.gov/msl-raw-images/proj/msl/redops/ods/surface/sol/02809/opgs/edr/ncam/NLB_646869070EDR_F0810628NCAM00229M_.JPG\",\"earth_date\":\"2020-07-01\",\"rover\":{\"id\":5,\"name\":\"Curiosity\",\"landing_date\":\"2012-08-06\",\"launch_date\":\"2011-11-26\",\"status\":\"active\"}},{\"id\":754127,\"sol\":2809,\"camera\":{\"id\":26,\"name\":\"NAVCAM\",\"rover_id\":5,\"full_name\":\"Navigation Camera\"},\"img_src\":\"https://mars.nasa.gov/msl-raw-images/proj/msl/redops/ods/surface/sol/02809/opgs/edr/ncam/NLB_646860211EDR_F0810628NCAM00229M_.JPG\",\"earth_date\":\"2020-07-01\",\"rover\":{\"id\":5,\"name\":\"Curiosity\",\"landing_date\":\"2012-08-06\",\"launch_date\":\"2011-11-26\",\"status\":\"active\"}},{\"id\":754128,\"sol\":2809,\"camera\":{\"id\":26,\"name\":\"NAVCAM\",\"rover_id\":5,\"full_name\":\"Navigation Camera\"},\"img_src\":\"https://mars.nasa.gov/msl-raw-images/proj/msl/redops/ods/surface/sol/02809/opgs/edr/ncam/NRB_646869070EDR_F0810628NCAM00229M_.JPG\",\"earth_date\":\"2020-07-01\",\"rover\":{\"id\":5,\"name\":\"Curiosity\",\"landing_date\":\"2012-08-06\",\"launch_date\":\"2011-11-26\",\"status\":\"active\"}},{\"id\":754129,\"sol\":2809,\"camera\":{\"id\":26,\"name\":\"NAVCAM\",\"rover_id\":5,\"full_name\":\"Navigation Camera\"},\"img_src\":\"https://mars.nasa.gov/msl-raw-images/proj/msl/redops/ods/surface/sol/02809/opgs/edr/ncam/NRB_646860211EDR_F0810628NCAM00229M_.JPG\",\"earth_date\":\"2020-07-01\",\"rover\":{\"id\":5,\"name\":\"Curiosity\",\"landing_date\":\"2012-08-06\",\"launch_date\":\"2011-11-26\",\"status\":\"active\"}}]}\n"
     ]
    }
   ],
   "source": [
    "#Make a request to nasa website for image with the DEMO_KEY\n",
    "#endpoint is : https://api.nasa.gov/mars-photos/api/v1/rovers/curiosity/photos\n",
    "# use also a query parameter : \"earth_date\": \"2020-07-01\"\n",
    "query_param = {\n",
    "    \"api_key\" : \"DEMO_KEY\",\n",
    "    \"earth_date\": \"2020-07-01\"\n",
    "}\n",
    "\n",
    "resp = requests.get('https://api.nasa.gov/mars-photos/api/v1/rovers/curiosity/photos', params = query_param)\n",
    "print(resp.text)"
   ]
  },
  {
   "cell_type": "code",
   "execution_count": 27,
   "metadata": {},
   "outputs": [
    {
     "name": "stdout",
     "output_type": "stream",
     "text": [
      "{'photos': [{'id': 754118, 'sol': 2809, 'camera': {'id': 20, 'name': 'FHAZ', 'rover_id': 5, 'full_name': 'Front Hazard Avoidance Camera'}, 'img_src': 'https://mars.nasa.gov/msl-raw-images/proj/msl/redops/ods/surface/sol/02809/opgs/edr/fcam/FLB_646868981EDR_F0810628FHAZ00337M_.JPG', 'earth_date': '2020-07-01', 'rover': {'id': 5, 'name': 'Curiosity', 'landing_date': '2012-08-06', 'launch_date': '2011-11-26', 'status': 'active'}}, {'id': 754119, 'sol': 2809, 'camera': {'id': 20, 'name': 'FHAZ', 'rover_id': 5, 'full_name': 'Front Hazard Avoidance Camera'}, 'img_src': 'https://mars.nasa.gov/msl-raw-images/proj/msl/redops/ods/surface/sol/02809/opgs/edr/fcam/FRB_646868981EDR_F0810628FHAZ00337M_.JPG', 'earth_date': '2020-07-01', 'rover': {'id': 5, 'name': 'Curiosity', 'landing_date': '2012-08-06', 'launch_date': '2011-11-26', 'status': 'active'}}, {'id': 754120, 'sol': 2809, 'camera': {'id': 20, 'name': 'FHAZ', 'rover_id': 5, 'full_name': 'Front Hazard Avoidance Camera'}, 'img_src': 'https://mars.nasa.gov/msl-raw-images/proj/msl/redops/ods/surface/sol/02809/opgs/edr/fcam/FRB_646860144EDR_F0810628FHAZ00337M_.JPG', 'earth_date': '2020-07-01', 'rover': {'id': 5, 'name': 'Curiosity', 'landing_date': '2012-08-06', 'launch_date': '2011-11-26', 'status': 'active'}}, {'id': 754121, 'sol': 2809, 'camera': {'id': 20, 'name': 'FHAZ', 'rover_id': 5, 'full_name': 'Front Hazard Avoidance Camera'}, 'img_src': 'https://mars.nasa.gov/msl-raw-images/proj/msl/redops/ods/surface/sol/02809/opgs/edr/fcam/FLB_646860144EDR_F0810628FHAZ00337M_.JPG', 'earth_date': '2020-07-01', 'rover': {'id': 5, 'name': 'Curiosity', 'landing_date': '2012-08-06', 'launch_date': '2011-11-26', 'status': 'active'}}, {'id': 754122, 'sol': 2809, 'camera': {'id': 21, 'name': 'RHAZ', 'rover_id': 5, 'full_name': 'Rear Hazard Avoidance Camera'}, 'img_src': 'https://mars.nasa.gov/msl-raw-images/proj/msl/redops/ods/surface/sol/02809/opgs/edr/rcam/RRB_646869036EDR_F0810628RHAZ00337M_.JPG', 'earth_date': '2020-07-01', 'rover': {'id': 5, 'name': 'Curiosity', 'landing_date': '2012-08-06', 'launch_date': '2011-11-26', 'status': 'active'}}, {'id': 754123, 'sol': 2809, 'camera': {'id': 21, 'name': 'RHAZ', 'rover_id': 5, 'full_name': 'Rear Hazard Avoidance Camera'}, 'img_src': 'https://mars.nasa.gov/msl-raw-images/proj/msl/redops/ods/surface/sol/02809/opgs/edr/rcam/RLB_646869036EDR_F0810628RHAZ00337M_.JPG', 'earth_date': '2020-07-01', 'rover': {'id': 5, 'name': 'Curiosity', 'landing_date': '2012-08-06', 'launch_date': '2011-11-26', 'status': 'active'}}, {'id': 754124, 'sol': 2809, 'camera': {'id': 21, 'name': 'RHAZ', 'rover_id': 5, 'full_name': 'Rear Hazard Avoidance Camera'}, 'img_src': 'https://mars.nasa.gov/msl-raw-images/proj/msl/redops/ods/surface/sol/02809/opgs/edr/rcam/RRB_646860185EDR_F0810628RHAZ00337M_.JPG', 'earth_date': '2020-07-01', 'rover': {'id': 5, 'name': 'Curiosity', 'landing_date': '2012-08-06', 'launch_date': '2011-11-26', 'status': 'active'}}, {'id': 754125, 'sol': 2809, 'camera': {'id': 21, 'name': 'RHAZ', 'rover_id': 5, 'full_name': 'Rear Hazard Avoidance Camera'}, 'img_src': 'https://mars.nasa.gov/msl-raw-images/proj/msl/redops/ods/surface/sol/02809/opgs/edr/rcam/RLB_646860185EDR_F0810628RHAZ00337M_.JPG', 'earth_date': '2020-07-01', 'rover': {'id': 5, 'name': 'Curiosity', 'landing_date': '2012-08-06', 'launch_date': '2011-11-26', 'status': 'active'}}, {'id': 754126, 'sol': 2809, 'camera': {'id': 26, 'name': 'NAVCAM', 'rover_id': 5, 'full_name': 'Navigation Camera'}, 'img_src': 'https://mars.nasa.gov/msl-raw-images/proj/msl/redops/ods/surface/sol/02809/opgs/edr/ncam/NLB_646869070EDR_F0810628NCAM00229M_.JPG', 'earth_date': '2020-07-01', 'rover': {'id': 5, 'name': 'Curiosity', 'landing_date': '2012-08-06', 'launch_date': '2011-11-26', 'status': 'active'}}, {'id': 754127, 'sol': 2809, 'camera': {'id': 26, 'name': 'NAVCAM', 'rover_id': 5, 'full_name': 'Navigation Camera'}, 'img_src': 'https://mars.nasa.gov/msl-raw-images/proj/msl/redops/ods/surface/sol/02809/opgs/edr/ncam/NLB_646860211EDR_F0810628NCAM00229M_.JPG', 'earth_date': '2020-07-01', 'rover': {'id': 5, 'name': 'Curiosity', 'landing_date': '2012-08-06', 'launch_date': '2011-11-26', 'status': 'active'}}, {'id': 754128, 'sol': 2809, 'camera': {'id': 26, 'name': 'NAVCAM', 'rover_id': 5, 'full_name': 'Navigation Camera'}, 'img_src': 'https://mars.nasa.gov/msl-raw-images/proj/msl/redops/ods/surface/sol/02809/opgs/edr/ncam/NRB_646869070EDR_F0810628NCAM00229M_.JPG', 'earth_date': '2020-07-01', 'rover': {'id': 5, 'name': 'Curiosity', 'landing_date': '2012-08-06', 'launch_date': '2011-11-26', 'status': 'active'}}, {'id': 754129, 'sol': 2809, 'camera': {'id': 26, 'name': 'NAVCAM', 'rover_id': 5, 'full_name': 'Navigation Camera'}, 'img_src': 'https://mars.nasa.gov/msl-raw-images/proj/msl/redops/ods/surface/sol/02809/opgs/edr/ncam/NRB_646860211EDR_F0810628NCAM00229M_.JPG', 'earth_date': '2020-07-01', 'rover': {'id': 5, 'name': 'Curiosity', 'landing_date': '2012-08-06', 'launch_date': '2011-11-26', 'status': 'active'}}]}\n"
     ]
    }
   ],
   "source": [
    "query_param = {\n",
    "    \"api_key\" : \"DEMO_KEY\",\n",
    "    \"earth_date\": \"2020-07-01\"\n",
    "}\n",
    "\n",
    "resp = requests.get('https://api.nasa.gov/mars-photos/api/v1/rovers/curiosity/photos', params = query_param)\n",
    "print(resp.json())"
   ]
  },
  {
   "cell_type": "code",
   "execution_count": 28,
   "metadata": {},
   "outputs": [
    {
     "name": "stdout",
     "output_type": "stream",
     "text": [
      "Найдено 12 фотографий.\n"
     ]
    }
   ],
   "source": [
    "photos = resp.json()[\"photos\"]\n",
    "print(f\"Найдено {len(photos)} фотографий.\")"
   ]
  },
  {
   "cell_type": "code",
   "execution_count": 29,
   "metadata": {},
   "outputs": [
    {
     "name": "stdout",
     "output_type": "stream",
     "text": [
      "https://mars.nasa.gov/msl-raw-images/proj/msl/redops/ods/surface/sol/02809/opgs/edr/rcam/RLB_646860185EDR_F0810628RHAZ00337M_.JPG\n"
     ]
    }
   ],
   "source": [
    "print(photos[7][\"img_src\"])"
   ]
  },
  {
   "cell_type": "code",
   "execution_count": 30,
   "metadata": {},
   "outputs": [
    {
     "name": "stdout",
     "output_type": "stream",
     "text": [
      "https://mars.nasa.gov/msl-raw-images/proj/msl/redops/ods/surface/sol/02809/opgs/edr/fcam/FLB_646868981EDR_F0810628FHAZ00337M_.JPG\n",
      "https://mars.nasa.gov/msl-raw-images/proj/msl/redops/ods/surface/sol/02809/opgs/edr/fcam/FRB_646868981EDR_F0810628FHAZ00337M_.JPG\n",
      "https://mars.nasa.gov/msl-raw-images/proj/msl/redops/ods/surface/sol/02809/opgs/edr/fcam/FRB_646860144EDR_F0810628FHAZ00337M_.JPG\n",
      "https://mars.nasa.gov/msl-raw-images/proj/msl/redops/ods/surface/sol/02809/opgs/edr/fcam/FLB_646860144EDR_F0810628FHAZ00337M_.JPG\n",
      "https://mars.nasa.gov/msl-raw-images/proj/msl/redops/ods/surface/sol/02809/opgs/edr/rcam/RRB_646869036EDR_F0810628RHAZ00337M_.JPG\n",
      "https://mars.nasa.gov/msl-raw-images/proj/msl/redops/ods/surface/sol/02809/opgs/edr/rcam/RLB_646869036EDR_F0810628RHAZ00337M_.JPG\n",
      "https://mars.nasa.gov/msl-raw-images/proj/msl/redops/ods/surface/sol/02809/opgs/edr/rcam/RRB_646860185EDR_F0810628RHAZ00337M_.JPG\n",
      "https://mars.nasa.gov/msl-raw-images/proj/msl/redops/ods/surface/sol/02809/opgs/edr/rcam/RLB_646860185EDR_F0810628RHAZ00337M_.JPG\n",
      "https://mars.nasa.gov/msl-raw-images/proj/msl/redops/ods/surface/sol/02809/opgs/edr/ncam/NLB_646869070EDR_F0810628NCAM00229M_.JPG\n",
      "https://mars.nasa.gov/msl-raw-images/proj/msl/redops/ods/surface/sol/02809/opgs/edr/ncam/NLB_646860211EDR_F0810628NCAM00229M_.JPG\n",
      "https://mars.nasa.gov/msl-raw-images/proj/msl/redops/ods/surface/sol/02809/opgs/edr/ncam/NRB_646869070EDR_F0810628NCAM00229M_.JPG\n",
      "https://mars.nasa.gov/msl-raw-images/proj/msl/redops/ods/surface/sol/02809/opgs/edr/ncam/NRB_646860211EDR_F0810628NCAM00229M_.JPG\n"
     ]
    }
   ],
   "source": [
    "#get only the url of the photos\n",
    "for i in resp.json()['photos']:\n",
    "    print(i['img_src'])"
   ]
  },
  {
   "cell_type": "code",
   "execution_count": 31,
   "metadata": {},
   "outputs": [
    {
     "ename": "FileNotFoundError",
     "evalue": "[Errno 2] No such file or directory: 'D:\\\\KBTU\\\\2022-2023\\\\Python Course\\\\Course\\\\Lecture\\\\Lecture_4\\\\photo_curio_0.jpg'",
     "output_type": "error",
     "traceback": [
      "\u001b[1;31m---------------------------------------------------------------------------\u001b[0m",
      "\u001b[1;31mFileNotFoundError\u001b[0m                         Traceback (most recent call last)",
      "\u001b[1;32mc:\\Users\\leila\\OneDrive\\Рабочий стол\\IKT\\lects\\lect4\\Lecture_4_corrrection_lecture.ipynb Cell 32\u001b[0m in \u001b[0;36m<cell line: 11>\u001b[1;34m()\u001b[0m\n\u001b[0;32m     <a href='vscode-notebook-cell:/c%3A/Users/leila/OneDrive/%D0%A0%D0%B0%D0%B1%D0%BE%D1%87%D0%B8%D0%B9%20%D1%81%D1%82%D0%BE%D0%BB/IKT/lects/lect4/Lecture_4_corrrection_lecture.ipynb#X43sZmlsZQ%3D%3D?line=10'>11</a>\u001b[0m \u001b[39mfor\u001b[39;00m index, data \u001b[39min\u001b[39;00m \u001b[39menumerate\u001b[39m(resp\u001b[39m.\u001b[39mjson()[\u001b[39m'\u001b[39m\u001b[39mphotos\u001b[39m\u001b[39m'\u001b[39m]):\n\u001b[0;32m     <a href='vscode-notebook-cell:/c%3A/Users/leila/OneDrive/%D0%A0%D0%B0%D0%B1%D0%BE%D1%87%D0%B8%D0%B9%20%D1%81%D1%82%D0%BE%D0%BB/IKT/lects/lect4/Lecture_4_corrrection_lecture.ipynb#X43sZmlsZQ%3D%3D?line=11'>12</a>\u001b[0m     resp2 \u001b[39m=\u001b[39m requests\u001b[39m.\u001b[39mget(data[\u001b[39m'\u001b[39m\u001b[39mimg_src\u001b[39m\u001b[39m'\u001b[39m])\n\u001b[1;32m---> <a href='vscode-notebook-cell:/c%3A/Users/leila/OneDrive/%D0%A0%D0%B0%D0%B1%D0%BE%D1%87%D0%B8%D0%B9%20%D1%81%D1%82%D0%BE%D0%BB/IKT/lects/lect4/Lecture_4_corrrection_lecture.ipynb#X43sZmlsZQ%3D%3D?line=12'>13</a>\u001b[0m     \u001b[39mwith\u001b[39;00m \u001b[39mopen\u001b[39;49m(\u001b[39mr\u001b[39;49m\u001b[39m\"\u001b[39;49m\u001b[39mD:\u001b[39;49m\u001b[39m\\\u001b[39;49m\u001b[39mKBTU\u001b[39;49m\u001b[39m\\\u001b[39;49m\u001b[39m2022-2023\u001b[39;49m\u001b[39m\\\u001b[39;49m\u001b[39mPython Course\u001b[39;49m\u001b[39m\\\u001b[39;49m\u001b[39mCourse\u001b[39;49m\u001b[39m\\\u001b[39;49m\u001b[39mLecture\u001b[39;49m\u001b[39m\\\u001b[39;49m\u001b[39mLecture_4\u001b[39;49m\u001b[39m\\\u001b[39;49m\u001b[39mphoto_curio_\u001b[39;49m\u001b[39m\"\u001b[39;49m\u001b[39m+\u001b[39;49m \u001b[39mstr\u001b[39;49m(index) \u001b[39m+\u001b[39;49m\u001b[39m\"\u001b[39;49m\u001b[39m.jpg\u001b[39;49m\u001b[39m\"\u001b[39;49m, \u001b[39m'\u001b[39;49m\u001b[39mwb\u001b[39;49m\u001b[39m'\u001b[39;49m) \u001b[39mas\u001b[39;00m file:\n\u001b[0;32m     <a href='vscode-notebook-cell:/c%3A/Users/leila/OneDrive/%D0%A0%D0%B0%D0%B1%D0%BE%D1%87%D0%B8%D0%B9%20%D1%81%D1%82%D0%BE%D0%BB/IKT/lects/lect4/Lecture_4_corrrection_lecture.ipynb#X43sZmlsZQ%3D%3D?line=13'>14</a>\u001b[0m         file\u001b[39m.\u001b[39mwrite(resp2\u001b[39m.\u001b[39mcontent)\n",
      "\u001b[1;31mFileNotFoundError\u001b[0m: [Errno 2] No such file or directory: 'D:\\\\KBTU\\\\2022-2023\\\\Python Course\\\\Course\\\\Lecture\\\\Lecture_4\\\\photo_curio_0.jpg'"
     ]
    }
   ],
   "source": [
    "# YOUR TURN\n",
    "# with the previous code (to save jpg into file), loop on all the photos and save them in your computer\n",
    "# 15 minutes\n",
    "\n",
    "query_param = {\n",
    "    \"api_key\" : \"DEMO_KEY\",\n",
    "    \"earth_date\": \"2020-07-01\"\n",
    "}\n",
    "\n",
    "resp = requests.get('https://api.nasa.gov/mars-photos/api/v1/rovers/curiosity/photos', params = query_param)\n",
    "for index, data in enumerate(resp.json()['photos']):\n",
    "    resp2 = requests.get(data['img_src'])\n",
    "    with open(r\"D:\\KBTU\\2022-2023\\Python Course\\Course\\Lecture\\Lecture_4\\photo_curio_\"+ str(index) +\".jpg\", 'wb') as file:\n",
    "        file.write(resp2.content)"
   ]
  },
  {
   "cell_type": "code",
   "execution_count": 58,
   "metadata": {},
   "outputs": [
    {
     "name": "stdout",
     "output_type": "stream",
     "text": [
      "{'status': 'ERROR', 'request_id': '6cfd94e5fed9e70f9143dea801df37e0', 'error': \"You've exceeded the maximum requests per minute, please wait or upgrade your subscription to continue. https://polygon.io/pricing\"}\n"
     ]
    }
   ],
   "source": [
    "#Make a API request on polygon.io\n",
    "\n",
    "url = \"https://api.polygon.io/v2/aggs/ticker/TSLA/range/1/minute/2021-07-22/2021-09-22?sort=asc&limit=5000&apiKey=lFm05uiT4LHXMiZbEQzcTCmnwZpWAJXU\"\n",
    "resp = requests.get(url)\n",
    "print(resp.json())"
   ]
  },
  {
   "cell_type": "code",
   "execution_count": null,
   "metadata": {},
   "outputs": [],
   "source": []
  }
 ],
 "metadata": {
  "kernelspec": {
   "display_name": "Python 3.10.1 64-bit",
   "language": "python",
   "name": "python3"
  },
  "language_info": {
   "codemirror_mode": {
    "name": "ipython",
    "version": 3
   },
   "file_extension": ".py",
   "mimetype": "text/x-python",
   "name": "python",
   "nbconvert_exporter": "python",
   "pygments_lexer": "ipython3",
   "version": "3.10.1"
  },
  "vscode": {
   "interpreter": {
    "hash": "e4dc0f147d725ed11c0fe90f83a594f1476427bfe3a425e4102a8fdc0a894ea9"
   }
  }
 },
 "nbformat": 4,
 "nbformat_minor": 4
}
