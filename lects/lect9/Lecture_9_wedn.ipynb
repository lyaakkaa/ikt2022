{
 "cells": [
  {
   "cell_type": "markdown",
   "metadata": {},
   "source": [
    "# Lecture 9: Machine Learning"
   ]
  },
  {
   "cell_type": "code",
   "execution_count": 1,
   "metadata": {},
   "outputs": [],
   "source": [
    "# Install the package numpy and scikit-learn\n"
   ]
  },
  {
   "cell_type": "code",
   "execution_count": 1,
   "metadata": {},
   "outputs": [
    {
     "name": "stdout",
     "output_type": "stream",
     "text": [
      "Requirement already satisfied: scikit-learn in c:\\users\\chard\\anaconda3\\lib\\site-packages (0.23.1)\n",
      "Note: you may need to restart the kernel to use updated packages.Requirement already satisfied: numpy>=1.13.3 in c:\\users\\chard\\anaconda3\\lib\\site-packages (from scikit-learn) (1.23.3)\n",
      "Requirement already satisfied: threadpoolctl>=2.0.0 in c:\\users\\chard\\anaconda3\\lib\\site-packages (from scikit-learn) (2.1.0)\n",
      "Requirement already satisfied: joblib>=0.11 in c:\\users\\chard\\anaconda3\\lib\\site-packages (from scikit-learn) (0.16.0)\n",
      "Requirement already satisfied: scipy>=0.19.1 in c:\\users\\chard\\anaconda3\\lib\\site-packages (from scikit-learn) (1.5.0)\n",
      "\n"
     ]
    }
   ],
   "source": [
    "# pip install scikit-learn"
   ]
  },
  {
   "cell_type": "code",
   "execution_count": 3,
   "metadata": {},
   "outputs": [
    {
     "name": "stdout",
     "output_type": "stream",
     "text": [
      "Requirement already satisfied: numpy in c:\\users\\chard\\anaconda3\\lib\\site-packages (1.23.3)\n",
      "Note: you may need to restart the kernel to use updated packages.\n"
     ]
    }
   ],
   "source": [
    "# pip install numpy"
   ]
  },
  {
   "cell_type": "code",
   "execution_count": 1,
   "metadata": {},
   "outputs": [],
   "source": [
    "#import the packages (numpy and linear_model from scikit)\n",
    "\n",
    "import numpy as np"
   ]
  },
  {
   "cell_type": "markdown",
   "metadata": {},
   "source": [
    "## Introduction to numpy"
   ]
  },
  {
   "cell_type": "code",
   "execution_count": 2,
   "metadata": {},
   "outputs": [
    {
     "name": "stdout",
     "output_type": "stream",
     "text": [
      "[1 2 3 4 5 6]\n"
     ]
    }
   ],
   "source": [
    "#Create your first numpy array in 1 dimension\n",
    "\n",
    "array = np.array([1,2,3,4,5,6])\n",
    "print(array)"
   ]
  },
  {
   "cell_type": "code",
   "execution_count": 3,
   "metadata": {},
   "outputs": [
    {
     "name": "stdout",
     "output_type": "stream",
     "text": [
      "[[1 2 3]\n",
      " [4 5 6]]\n",
      "--------------------\n",
      "[[1, 2, 3], [4, 5, 6]]\n"
     ]
    }
   ],
   "source": [
    "#Create your first 2 dimensionnal arry\n",
    "l = [[1, 2, 3], [4, 5, 6]]\n",
    "array = np.array([[1, 2, 3], [4, 5, 6]])\n",
    "print(array)\n",
    "print('-'*20)\n",
    "print(l)\n"
   ]
  },
  {
   "cell_type": "code",
   "execution_count": 4,
   "metadata": {},
   "outputs": [
    {
     "name": "stdout",
     "output_type": "stream",
     "text": [
      "2\n"
     ]
    }
   ],
   "source": [
    "#getting access to numpy array items\n",
    "array = np.array([[1, 2, 3], [4, 5, 6]])\n",
    "print(array[0][1])"
   ]
  },
  {
   "cell_type": "code",
   "execution_count": 5,
   "metadata": {},
   "outputs": [
    {
     "name": "stdout",
     "output_type": "stream",
     "text": [
      "[55, 2, 3]\n",
      "[1, 2, 3]\n"
     ]
    }
   ],
   "source": [
    "#the copy and the view\n",
    "list0 = [1, 2, 3]\n",
    "list1 = list0.copy()\n",
    "list1[0] = 55\n",
    "print(list1)\n",
    "print(list0)\n"
   ]
  },
  {
   "cell_type": "code",
   "execution_count": 6,
   "metadata": {},
   "outputs": [
    {
     "name": "stdout",
     "output_type": "stream",
     "text": [
      "[ 1 50  3]\n",
      "[ 1 50  3]\n",
      "[1 2 3]\n"
     ]
    }
   ],
   "source": [
    "#the copy and the view\n",
    "arr0 = np.array([1, 2, 3])\n",
    "arr1 = arr0.view()  # view будет зависить потом, типа если поменяем arr1 то значит и arr0 поменяется\n",
    "arr2 = arr0.copy() # copy просто копирует , и не будет зависить\n",
    "arr1[1]= 50\n",
    "# arr2[1] = 50000\n",
    "print(arr0)\n",
    "print(arr1)\n",
    "print(arr2)\n"
   ]
  },
  {
   "cell_type": "code",
   "execution_count": 7,
   "metadata": {},
   "outputs": [
    {
     "name": "stdout",
     "output_type": "stream",
     "text": [
      "[[       1 20000000        3]\n",
      " [       4        5        6]]\n"
     ]
    }
   ],
   "source": [
    "array = np.array([[1, 20000000, 3], [4, 5, 6]])\n",
    "print(array)"
   ]
  },
  {
   "cell_type": "code",
   "execution_count": 8,
   "metadata": {},
   "outputs": [
    {
     "name": "stdout",
     "output_type": "stream",
     "text": [
      "(8,)\n"
     ]
    }
   ],
   "source": [
    "#The shape of an array\n",
    "# размер array\n",
    "array = np.array([1, 2, 3, 4, 5, 6, 7, 8])\n",
    "print(array.shape) "
   ]
  },
  {
   "cell_type": "code",
   "execution_count": 10,
   "metadata": {
    "scrolled": true
   },
   "outputs": [
    {
     "name": "stdout",
     "output_type": "stream",
     "text": [
      "[[1 2]\n",
      " [3 4]\n",
      " [5 6]]\n"
     ]
    }
   ],
   "source": [
    "#reshape your array from 1D to 2D\n",
    "array = np.array([1, 2, 3, 4, 5, 6])\n",
    "print(array.reshape((3,2)))\n",
    "\n",
    "# 3 строчки и 2 колоны "
   ]
  },
  {
   "cell_type": "code",
   "execution_count": 11,
   "metadata": {},
   "outputs": [
    {
     "name": "stdout",
     "output_type": "stream",
     "text": [
      "[[1]\n",
      " [2]\n",
      " [3]\n",
      " [4]\n",
      " [5]\n",
      " [6]]\n"
     ]
    }
   ],
   "source": [
    "#reshape your array from 1D to 2D\n",
    "array = np.array([1, 2, 3, 4, 5, 6])\n",
    "print(array.reshape((6,1)))"
   ]
  },
  {
   "cell_type": "code",
   "execution_count": 12,
   "metadata": {
    "scrolled": true
   },
   "outputs": [
    {
     "name": "stdout",
     "output_type": "stream",
     "text": [
      "[[1 2]\n",
      " [3 4]\n",
      " [5 6]]\n"
     ]
    }
   ],
   "source": [
    "#reshape your array from 1D to another D (with -1)\n",
    "array = np.array([1, 2, 3, 4, 5, 6])\n",
    "print(array.reshape((-1,2)))"
   ]
  },
  {
   "cell_type": "code",
   "execution_count": 13,
   "metadata": {},
   "outputs": [
    {
     "name": "stdout",
     "output_type": "stream",
     "text": [
      "[[1]\n",
      " [2]\n",
      " [3]\n",
      " [4]\n",
      " [5]\n",
      " [6]]\n"
     ]
    }
   ],
   "source": [
    "#reshape your array from 1D to another D (with -1)\n",
    "array = np.array([1, 2, 3, 4, 5, 6])\n",
    "print(array.reshape((-1,1)))"
   ]
  },
  {
   "cell_type": "code",
   "execution_count": 14,
   "metadata": {},
   "outputs": [
    {
     "name": "stdout",
     "output_type": "stream",
     "text": [
      "[[1]\n",
      " [2]\n",
      " [3]\n",
      " [4]\n",
      " [5]\n",
      " [6]]\n",
      "--------------------\n",
      "[[ 7]\n",
      " [ 8]\n",
      " [ 9]\n",
      " [10]\n",
      " [11]\n",
      " [12]]\n",
      "--------------------\n",
      "[[ 1  7]\n",
      " [ 2  8]\n",
      " [ 3  9]\n",
      " [ 4 10]\n",
      " [ 5 11]\n",
      " [ 6 12]]\n"
     ]
    }
   ],
   "source": [
    "#The hstack\n",
    "array0 = np.array([1, 2, 3, 4, 5, 6])\n",
    "array0 = array.reshape((-1,1))\n",
    "array1 = np.array([7, 8, 9, 10, 11, 12])\n",
    "array1 = array1.reshape((-1,1))\n",
    "print(array0)\n",
    "print('-'*20)\n",
    "print(array1)\n",
    "print('-'*20)\n",
    "print(np.hstack([array0, array1]))\n",
    "\n",
    "# hstack "
   ]
  },
  {
   "cell_type": "code",
   "execution_count": 15,
   "metadata": {},
   "outputs": [
    {
     "name": "stdout",
     "output_type": "stream",
     "text": [
      "[3 4 5 6]\n",
      "[2 4 6 8]\n",
      "[1, 2, 3, 4, 1, 2, 3, 4]\n",
      "[2 4 6 8]\n"
     ]
    }
   ],
   "source": [
    "#The avantage of numpy, the use of array for addition or multiplication for example\n",
    "l = [1, 2, 3, 4]\n",
    "arr = np.array([1,2,3,4])\n",
    "# print(l +2 )\n",
    "print(arr +2 )\n",
    "print(arr *2 )\n",
    "print(l + l )\n",
    "print(arr + arr)"
   ]
  },
  {
   "cell_type": "code",
   "execution_count": 16,
   "metadata": {},
   "outputs": [
    {
     "name": "stdout",
     "output_type": "stream",
     "text": [
      "[[ 1  5]\n",
      " [ 9 31]\n",
      " [45 78]]\n",
      "[[ 1  5]\n",
      " [ 9 31]\n",
      " [45 78]]\n",
      "[[ 1  5]\n",
      " [ 9 31]\n",
      " [45 78]]\n"
     ]
    }
   ],
   "source": [
    "#YOUR TURN (10 minutes)\n",
    "#Change this array [1,5,9,31,45,78]\n",
    "#into this one:\n",
    "#[[1 5],\n",
    "#[9 31],\n",
    "#[45 78]]\n",
    "arr = np.array([1,5,9,31,45,78])\n",
    "print(arr.reshape((3,2)))\n",
    "print(arr.reshape((-1,2)))\n",
    "print(arr.reshape((3,-1)))"
   ]
  }
 ],
 "metadata": {
  "kernelspec": {
   "display_name": "Python 3.10.1 64-bit",
   "language": "python",
   "name": "python3"
  },
  "language_info": {
   "codemirror_mode": {
    "name": "ipython",
    "version": 3
   },
   "file_extension": ".py",
   "mimetype": "text/x-python",
   "name": "python",
   "nbconvert_exporter": "python",
   "pygments_lexer": "ipython3",
   "version": "3.10.1"
  },
  "vscode": {
   "interpreter": {
    "hash": "e4dc0f147d725ed11c0fe90f83a594f1476427bfe3a425e4102a8fdc0a894ea9"
   }
  }
 },
 "nbformat": 4,
 "nbformat_minor": 4
}
