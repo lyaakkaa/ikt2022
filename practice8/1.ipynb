{
 "cells": [
  {
   "cell_type": "code",
   "execution_count": 1,
   "metadata": {},
   "outputs": [],
   "source": [
    "import pandas as pd\n",
    "import numpy as np\n",
    "\n",
    "\n",
    "# - Open the final dataframe\n",
    "\n",
    "# - Clean it from:\n",
    "\n",
    "# o NaN values\n",
    "\n",
    "# o 0 values"
   ]
  },
  {
   "cell_type": "code",
   "execution_count": 2,
   "metadata": {},
   "outputs": [],
   "source": [
    "df_origin = pd.read_parquet(r\"C:\\Users\\leila\\OneDrive\\Рабочий стол\\IKT\\practice8\\df_final_US_EUR.parquet\")"
   ]
  },
  {
   "cell_type": "code",
   "execution_count": 3,
   "metadata": {},
   "outputs": [
    {
     "name": "stdout",
     "output_type": "stream",
     "text": [
      "               Date  Open   High   Low  Close  Adj Close   Volume      Name\n",
      "0        2008-01-29  9.50   9.99  8.57   8.75   0.702589  1489000      AACG\n",
      "1        2008-01-30  8.75   9.15  8.30   8.50   0.682516   219000      AACG\n",
      "2        2008-01-31  8.49  10.30  8.49   9.55   0.766826   182300      AACG\n",
      "3        2008-02-01  9.93   9.94  9.50   9.51   0.763614    28200      AACG\n",
      "4        2008-02-04  9.50   9.71  9.50   9.50   0.762811     8300      AACG\n",
      "...             ...   ...    ...   ...    ...        ...      ...       ...\n",
      "27247611 2022-08-24  9.54   9.54  7.75   9.00   9.000000   125933  ZWIPE.OL\n",
      "27247612 2022-08-25  8.79   9.99  8.03   9.34   9.340000   159549  ZWIPE.OL\n",
      "27247613 2022-08-26  8.95   9.29  8.00   8.30   8.300000    17487  ZWIPE.OL\n",
      "27247614 2022-08-29  8.12   8.61  7.86   7.98   7.980000    58661  ZWIPE.OL\n",
      "27247615 2022-08-30  7.70   8.52  7.60   8.33   8.330000     7684  ZWIPE.OL\n",
      "\n",
      "[27247616 rows x 8 columns]\n",
      "Date               0\n",
      "Open         1088964\n",
      "High               4\n",
      "Low                6\n",
      "Close              4\n",
      "Adj Close        882\n",
      "Volume       1646417\n",
      "Name               0\n",
      "dtype: int64\n"
     ]
    }
   ],
   "source": [
    "print(df_origin)\n",
    "\n",
    "df_origin = df_origin.replace(0, np.nan)\n",
    "print(df_origin.isnull().sum())"
   ]
  },
  {
   "cell_type": "code",
   "execution_count": 5,
   "metadata": {},
   "outputs": [
    {
     "name": "stdout",
     "output_type": "stream",
     "text": [
      "2736581\n"
     ]
    }
   ],
   "source": [
    "df_origin[df_origin['Volume'] < 0] = np.nan\n",
    "\n",
    "print(df_origin.isnull().sum().sum())\n",
    "# df_origin = df_origin.sort_values('Date')\n",
    "# print(df_origin)\n",
    "\n"
   ]
  },
  {
   "cell_type": "code",
   "execution_count": 6,
   "metadata": {},
   "outputs": [],
   "source": [
    "df_origin.dropna(inplace=True)"
   ]
  },
  {
   "cell_type": "code",
   "execution_count": 7,
   "metadata": {},
   "outputs": [
    {
     "name": "stdout",
     "output_type": "stream",
     "text": [
      "               Date  Open   High   Low  Close  Adj Close     Volume      Name\n",
      "0        2008-01-29  9.50   9.99  8.57   8.75   0.702589  1489000.0      AACG\n",
      "1        2008-01-30  8.75   9.15  8.30   8.50   0.682516   219000.0      AACG\n",
      "2        2008-01-31  8.49  10.30  8.49   9.55   0.766826   182300.0      AACG\n",
      "3        2008-02-01  9.93   9.94  9.50   9.51   0.763614    28200.0      AACG\n",
      "4        2008-02-04  9.50   9.71  9.50   9.50   0.762811     8300.0      AACG\n",
      "...             ...   ...    ...   ...    ...        ...        ...       ...\n",
      "27247611 2022-08-24  9.54   9.54  7.75   9.00   9.000000   125933.0  ZWIPE.OL\n",
      "27247612 2022-08-25  8.79   9.99  8.03   9.34   9.340000   159549.0  ZWIPE.OL\n",
      "27247613 2022-08-26  8.95   9.29  8.00   8.30   8.300000    17487.0  ZWIPE.OL\n",
      "27247614 2022-08-29  8.12   8.61  7.86   7.98   7.980000    58661.0  ZWIPE.OL\n",
      "27247615 2022-08-30  7.70   8.52  7.60   8.33   8.330000     7684.0  ZWIPE.OL\n",
      "\n",
      "[24514418 rows x 8 columns]\n",
      "Date         0\n",
      "Open         0\n",
      "High         0\n",
      "Low          0\n",
      "Close        0\n",
      "Adj Close    0\n",
      "Volume       0\n",
      "Name         0\n",
      "dtype: int64\n"
     ]
    }
   ],
   "source": [
    "print(df_origin)\n",
    "print(df_origin.isnull().sum())"
   ]
  },
  {
   "cell_type": "code",
   "execution_count": 9,
   "metadata": {},
   "outputs": [
    {
     "name": "stdout",
     "output_type": "stream",
     "text": [
      "           Date        Open        High         Low       Close   Adj Close  \\\n",
      "0    2004-08-19    2.502503    2.604104    2.401401    2.511011    2.511011   \n",
      "1    2004-08-20    2.527778    2.729730    2.515015    2.710460    2.710460   \n",
      "2    2004-08-23    2.771522    2.839840    2.728979    2.737738    2.737738   \n",
      "3    2004-08-24    2.783784    2.792793    2.591842    2.624374    2.624374   \n",
      "4    2004-08-25    2.626627    2.702703    2.599600    2.652653    2.652653   \n",
      "...         ...         ...         ...         ...         ...         ...   \n",
      "4535 2022-08-24  113.500000  114.779999  112.870003  113.690002  113.690002   \n",
      "4536 2022-08-25  114.239998  116.720001  114.110001  116.650002  116.650002   \n",
      "4537 2022-08-26  114.720001  115.120003  110.190002  110.339996  110.339996   \n",
      "4538 2022-08-29  109.989998  110.949997  108.800003  109.419998  109.419998   \n",
      "4539 2022-08-30  110.169998  110.500000  107.800003  108.940002  108.940002   \n",
      "\n",
      "           Volume   Name  \n",
      "0     893181924.0  GOOGL  \n",
      "1     456686856.0  GOOGL  \n",
      "2     365122512.0  GOOGL  \n",
      "3     304946748.0  GOOGL  \n",
      "4     183772044.0  GOOGL  \n",
      "...           ...    ...  \n",
      "4535   17734600.0  GOOGL  \n",
      "4536   16956800.0  GOOGL  \n",
      "4537   37245700.0  GOOGL  \n",
      "4538   21191200.0  GOOGL  \n",
      "4539   27513300.0  GOOGL  \n",
      "\n",
      "[4540 rows x 8 columns]\n"
     ]
    }
   ],
   "source": [
    "df = df_origin[df_origin['Name'] == 'GOOGL'].copy()\n",
    "df.reset_index(drop = True, inplace = True)\n",
    "print(df)"
   ]
  },
  {
   "cell_type": "code",
   "execution_count": 10,
   "metadata": {},
   "outputs": [
    {
     "name": "stdout",
     "output_type": "stream",
     "text": [
      "           Date        Open        High         Low       Close   Adj Close  \\\n",
      "0    2004-08-19    2.502503    2.604104    2.401401    2.511011    2.511011   \n",
      "1    2004-08-20    2.527778    2.729730    2.515015    2.710460    2.710460   \n",
      "2    2004-08-23    2.771522    2.839840    2.728979    2.737738    2.737738   \n",
      "3    2004-08-24    2.783784    2.792793    2.591842    2.624374    2.624374   \n",
      "4    2004-08-25    2.626627    2.702703    2.599600    2.652653    2.652653   \n",
      "...         ...         ...         ...         ...         ...         ...   \n",
      "4535 2022-08-24  113.500000  114.779999  112.870003  113.690002  113.690002   \n",
      "4536 2022-08-25  114.239998  116.720001  114.110001  116.650002  116.650002   \n",
      "4537 2022-08-26  114.720001  115.120003  110.190002  110.339996  110.339996   \n",
      "4538 2022-08-29  109.989998  110.949997  108.800003  109.419998  109.419998   \n",
      "4539 2022-08-30  110.169998  110.500000  107.800003  108.940002  108.940002   \n",
      "\n",
      "           Volume   Name  perc_Open  perc_High  perc_Low  perc_Adj Close  \\\n",
      "0     893181924.0  GOOGL        NaN        NaN       NaN             NaN   \n",
      "1     456686856.0  GOOGL   0.999890   4.602135  4.517422        7.358493   \n",
      "2     365122512.0  GOOGL   8.794595   3.877333  7.840449        0.996370   \n",
      "3     304946748.0  GOOGL   0.440475  -1.684582 -5.291109       -4.319659   \n",
      "4     183772044.0  GOOGL  -5.983223  -3.333331  0.298436        1.066065   \n",
      "...           ...    ...        ...        ...       ...             ...   \n",
      "4535   17734600.0  GOOGL   0.017618  -0.200386 -0.496144       -0.149529   \n",
      "4536   16956800.0  GOOGL   0.647757   1.662099  1.086669        2.537505   \n",
      "4537   37245700.0  GOOGL   0.418413  -1.389853 -3.557490       -5.718693   \n",
      "4538   21191200.0  GOOGL  -4.300394  -3.758455 -1.277573       -0.840795   \n",
      "4539   27513300.0  GOOGL   0.163384  -0.407237 -0.927644       -0.440606   \n",
      "\n",
      "      perc_Close  perc_Volume  \n",
      "0            NaN          NaN  \n",
      "1       7.358495   -95.578636  \n",
      "2       0.996368   -25.077704  \n",
      "3      -4.319658   -19.733204  \n",
      "4       1.066067   -65.937507  \n",
      "...          ...          ...  \n",
      "4535   -0.149528    10.511655  \n",
      "4536    2.537505    -4.586950  \n",
      "4537   -5.718693    54.473134  \n",
      "4538   -0.840795   -75.760221  \n",
      "4539   -0.440606    22.978341  \n",
      "\n",
      "[4540 rows x 14 columns]\n"
     ]
    }
   ],
   "source": [
    "col = ['Open', 'High', 'Low', 'Adj Close', 'Close', 'Volume']\n",
    "for c in col:\n",
    "    perc = []\n",
    "    for index, line in df.iterrows():\n",
    "        if index == 0:\n",
    "            perc.append(np.nan)\n",
    "        else:\n",
    "            perc.append( (line[c] - df.loc[index-1, c])/line[c] *100)\n",
    "\n",
    "    df['perc_'+c] = perc\n",
    "print(df)"
   ]
  },
  {
   "cell_type": "code",
   "execution_count": 17,
   "metadata": {},
   "outputs": [
    {
     "name": "stdout",
     "output_type": "stream",
     "text": [
      "Date              0\n",
      "Open              0\n",
      "High              0\n",
      "Low               0\n",
      "Close             0\n",
      "Adj Close         0\n",
      "Volume            0\n",
      "Name              0\n",
      "perc_Open         1\n",
      "perc_High         1\n",
      "perc_Low          1\n",
      "perc_Adj Close    1\n",
      "perc_Close        1\n",
      "perc_Volume       1\n",
      "dtype: int64\n"
     ]
    }
   ],
   "source": [
    "print(df.isnull().sum())"
   ]
  },
  {
   "cell_type": "code",
   "execution_count": 18,
   "metadata": {},
   "outputs": [
    {
     "name": "stdout",
     "output_type": "stream",
     "text": [
      "               Date  Open   High   Low  Close  Adj Close   Volume      Name\n",
      "0        2008-01-29  9.50   9.99  8.57   8.75   0.702589  1489000      AACG\n",
      "1        2008-01-30  8.75   9.15  8.30   8.50   0.682516   219000      AACG\n",
      "2        2008-01-31  8.49  10.30  8.49   9.55   0.766826   182300      AACG\n",
      "3        2008-02-01  9.93   9.94  9.50   9.51   0.763614    28200      AACG\n",
      "4        2008-02-04  9.50   9.71  9.50   9.50   0.762811     8300      AACG\n",
      "...             ...   ...    ...   ...    ...        ...      ...       ...\n",
      "27247611 2022-08-24  9.54   9.54  7.75   9.00   9.000000   125933  ZWIPE.OL\n",
      "27247612 2022-08-25  8.79   9.99  8.03   9.34   9.340000   159549  ZWIPE.OL\n",
      "27247613 2022-08-26  8.95   9.29  8.00   8.30   8.300000    17487  ZWIPE.OL\n",
      "27247614 2022-08-29  8.12   8.61  7.86   7.98   7.980000    58661  ZWIPE.OL\n",
      "27247615 2022-08-30  7.70   8.52  7.60   8.33   8.330000     7684  ZWIPE.OL\n",
      "\n",
      "[27247616 rows x 8 columns]\n"
     ]
    }
   ],
   "source": [
    "df_origin = pd.read_parquet(r\"C:\\Users\\leila\\OneDrive\\Рабочий стол\\IKT\\practice8\\df_final_US_EUR.parquet\")\n",
    "print(df_origin)"
   ]
  },
  {
   "cell_type": "code",
   "execution_count": 19,
   "metadata": {},
   "outputs": [
    {
     "name": "stdout",
     "output_type": "stream",
     "text": [
      "               Date  Open   High   Low  Close  Adj Close     Volume      Name\n",
      "0        2008-01-29  9.50   9.99  8.57   8.75   0.702589  1489000.0      AACG\n",
      "1        2008-01-30  8.75   9.15  8.30   8.50   0.682516   219000.0      AACG\n",
      "2        2008-01-31  8.49  10.30  8.49   9.55   0.766826   182300.0      AACG\n",
      "3        2008-02-01  9.93   9.94  9.50   9.51   0.763614    28200.0      AACG\n",
      "4        2008-02-04  9.50   9.71  9.50   9.50   0.762811     8300.0      AACG\n",
      "...             ...   ...    ...   ...    ...        ...        ...       ...\n",
      "24514413 2022-08-24  9.54   9.54  7.75   9.00   9.000000   125933.0  ZWIPE.OL\n",
      "24514414 2022-08-25  8.79   9.99  8.03   9.34   9.340000   159549.0  ZWIPE.OL\n",
      "24514415 2022-08-26  8.95   9.29  8.00   8.30   8.300000    17487.0  ZWIPE.OL\n",
      "24514416 2022-08-29  8.12   8.61  7.86   7.98   7.980000    58661.0  ZWIPE.OL\n",
      "24514417 2022-08-30  7.70   8.52  7.60   8.33   8.330000     7684.0  ZWIPE.OL\n",
      "\n",
      "[24514418 rows x 8 columns]\n",
      "Date         0\n",
      "Open         0\n",
      "High         0\n",
      "Low          0\n",
      "Close        0\n",
      "Adj Close    0\n",
      "Volume       0\n",
      "Name         0\n",
      "dtype: int64\n"
     ]
    }
   ],
   "source": [
    "df_origin = df_origin.replace(0, np.nan)\n",
    "df_origin[df_origin['Volume'] < 0] = np.nan\n",
    "df_origin.dropna(inplace=True)\n",
    "df_origin.reset_index(drop = True, inplace = True)\n",
    "print(df_origin)\n",
    "print(df_origin.isnull().sum())\n",
    "\n"
   ]
  }
 ],
 "metadata": {
  "kernelspec": {
   "display_name": "Python 3.10.1 64-bit",
   "language": "python",
   "name": "python3"
  },
  "language_info": {
   "codemirror_mode": {
    "name": "ipython",
    "version": 3
   },
   "file_extension": ".py",
   "mimetype": "text/x-python",
   "name": "python",
   "nbconvert_exporter": "python",
   "pygments_lexer": "ipython3",
   "version": "3.10.1"
  },
  "orig_nbformat": 4,
  "vscode": {
   "interpreter": {
    "hash": "e4dc0f147d725ed11c0fe90f83a594f1476427bfe3a425e4102a8fdc0a894ea9"
   }
  }
 },
 "nbformat": 4,
 "nbformat_minor": 2
}
