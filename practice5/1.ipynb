{
 "cells": [
  {
   "cell_type": "code",
   "execution_count": 1,
   "metadata": {},
   "outputs": [
    {
     "name": "stdout",
     "output_type": "stream",
     "text": [
      "b'Forbidden'\n"
     ]
    }
   ],
   "source": [
    "import requests\n",
    "\n",
    "url = \"https://query1.finance.yahoo.com/v7/finance/download/CL?period1=1633475675&period2=1665011675&interval=1d&events=history&includeAdjustedClose=true\"\n",
    "resp = requests.get(url)\n",
    "print(resp.content)"
   ]
  },
  {
   "cell_type": "code",
   "execution_count": null,
   "metadata": {},
   "outputs": [],
   "source": []
  },
  {
   "cell_type": "code",
   "execution_count": null,
   "metadata": {},
   "outputs": [],
   "source": []
  },
  {
   "cell_type": "code",
   "execution_count": null,
   "metadata": {},
   "outputs": [],
   "source": [
    "headers = {'user-agent' : 'Mozilla/5.0 (Windows NT 10.0; Win64; x64) AppleWebKit/537.36 (KHTML, like Gecko) Chrome/106.0.0.0 Safari/537.36'}\n",
    "\n",
    "resp = requests.get(url, headers = headers)\n",
    "print(resp.content)"
   ]
  },
  {
   "cell_type": "code",
   "execution_count": 4,
   "metadata": {},
   "outputs": [
    {
     "name": "stdout",
     "output_type": "stream",
     "text": [
      "           Date       Open       High        Low      Close  Adj Close  \\\n",
      "0    2021-10-05  75.000000  75.080002  74.370003  74.419998  72.223907   \n",
      "1    2021-10-06  74.070000  75.190002  74.010002  75.099998  72.883835   \n",
      "2    2021-10-07  75.529999  76.410004  75.519997  75.589996  73.359383   \n",
      "3    2021-10-08  75.540001  75.889999  75.309998  75.589996  73.359383   \n",
      "4    2021-10-11  75.900002  76.160004  75.570000  75.800003  73.563187   \n",
      "..          ...        ...        ...        ...        ...        ...   \n",
      "248  2022-09-29  72.919998  73.199997  71.239998  71.769997  71.299866   \n",
      "249  2022-09-30  72.000000  72.290001  70.160004  70.250000  69.789825   \n",
      "250  2022-10-03  70.830002  71.370003  70.080002  71.110001  70.644188   \n",
      "251  2022-10-04  71.279999  72.419998  71.220001  71.839996  71.369408   \n",
      "252  2022-10-05  72.099998  72.099998  70.610001  71.110001  70.644188   \n",
      "\n",
      "      Volume  \n",
      "0    4915400  \n",
      "1    4052700  \n",
      "2    3642200  \n",
      "3    3327900  \n",
      "4    3742400  \n",
      "..       ...  \n",
      "248  4617200  \n",
      "249  7506900  \n",
      "250  3840300  \n",
      "251  4066900  \n",
      "252  3467800  \n",
      "\n",
      "[253 rows x 7 columns]\n"
     ]
    }
   ],
   "source": [
    "import pandas as pd\n",
    "import io\n",
    "\n",
    "df = pd.read_csv(io.StringIO(resp.content.decode('utf-8')))\n",
    "\n",
    "print(df)"
   ]
  },
  {
   "cell_type": "code",
   "execution_count": null,
   "metadata": {},
   "outputs": [],
   "source": [
    "import requests\n",
    "import pandas as pd\n",
    "import io\n",
    "\n",
    "company = ['MRNA', 'CL', 'PEP']\n",
    "for i in company:\n",
    "    url = \"https://query1.finance.yahoo.com/v7/finance/download/\"+i\n",
    "    params = {'period1' : '1633476122', 'period2' : '1665012122','interval' : '1d', 'events' : 'history', 'includeAdjustedClose' : 'true' }\n",
    "    headers = {'user-agent' : 'Mozilla/5.0 (Windows NT 10.0; Win64; x64) AppleWebKit/537.36 (KHTML, like Gecko) Chrome/105.0.0.0 Safari/537.36'}\n",
    "\n",
    "    resp = requests.get(url, headers = headers, params=params)\n",
    "    df = pd.read_csv(io.StringIO(resp.content.decode(\"utf-8\")))\n",
    "    print(df)"
   ]
  },
  {
   "cell_type": "code",
   "execution_count": 6,
   "metadata": {},
   "outputs": [
    {
     "name": "stdout",
     "output_type": "stream",
     "text": [
      "                Date        Open        High         Low       Close  \\\n",
      "APPL 0    2021-10-05  331.000000  338.032990  327.200012  332.109985   \n",
      "     1    2021-10-06  318.709991  325.679993  300.619995  302.420013   \n",
      "     2    2021-10-07  295.459991  317.350006  293.579987  309.359985   \n",
      "     3    2021-10-08  310.799988  314.049988  297.540009  304.910004   \n",
      "     4    2021-10-11  299.320007  314.109985  298.100006  305.100006   \n",
      "...              ...         ...         ...         ...         ...   \n",
      "PEP  248  2022-09-29  168.800003  169.139999  165.000000  166.610001   \n",
      "     249  2022-09-30  167.690002  168.240005  163.009995  163.259995   \n",
      "     250  2022-10-03  163.520004  165.690002  163.020004  165.250000   \n",
      "     251  2022-10-04  167.389999  168.729996  165.550003  167.110001   \n",
      "     252  2022-10-05  166.970001  167.089996  163.729996  166.000000   \n",
      "\n",
      "           Adj Close    Volume  \n",
      "APPL 0    332.109985  11637500  \n",
      "     1    302.420013  17457400  \n",
      "     2    309.359985  15791000  \n",
      "     3    304.910004  10631800  \n",
      "     4    305.100006   7625800  \n",
      "...              ...       ...  \n",
      "PEP  248  166.610001   5167700  \n",
      "     249  163.259995   5970900  \n",
      "     250  165.250000   5093400  \n",
      "     251  167.110001   4596800  \n",
      "     252  166.000000   3538600  \n",
      "\n",
      "[759 rows x 7 columns]\n"
     ]
    }
   ],
   "source": [
    "import requests\n",
    "import pandas as pd\n",
    "import io\n",
    "\n",
    "company = ['MRNA', 'AAPL', 'PEP']\n",
    "l = []\n",
    "dataframe = pd.DataFrame()\n",
    "for i in company:\n",
    "    url = \"https://query1.finance.yahoo.com/v7/finance/download/\"+i\n",
    "    params = {'period1' : '1633476122', 'period2' : '1665012122', 'interval' : '1d', 'events' : 'history', 'includeAdjustedClose' : 'true'}\n",
    "    headers = {'user-agent' : 'Mozilla/5.0 (Windows NT 10.0; Win64; x64) AppleWebKit/537.36 (KHTML, like Gecko) Chrome/105.0.0.0 Safari/537.36'}\n",
    "\n",
    "    resp = requests.get(url, headers = headers, params = params)\n",
    "    df = pd.read_csv(io.StringIO(resp.content.decode(\"utf-8\")))\n",
    "    l.append(df)\n",
    "print(pd.concat([i for i in l],keys = ['APPL', 'MRNA', 'PEP']))"
   ]
  }
 ],
 "metadata": {
  "kernelspec": {
   "display_name": "Python 3.10.1 64-bit",
   "language": "python",
   "name": "python3"
  },
  "language_info": {
   "codemirror_mode": {
    "name": "ipython",
    "version": 3
   },
   "file_extension": ".py",
   "mimetype": "text/x-python",
   "name": "python",
   "nbconvert_exporter": "python",
   "pygments_lexer": "ipython3",
   "version": "3.10.1"
  },
  "orig_nbformat": 4,
  "vscode": {
   "interpreter": {
    "hash": "e4dc0f147d725ed11c0fe90f83a594f1476427bfe3a425e4102a8fdc0a894ea9"
   }
  }
 },
 "nbformat": 4,
 "nbformat_minor": 2
}
