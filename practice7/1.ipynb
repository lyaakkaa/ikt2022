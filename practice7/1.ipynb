{
 "cells": [
  {
   "cell_type": "code",
   "execution_count": null,
   "metadata": {},
   "outputs": [],
   "source": [
    "# 1. Create a big list of symbols\n",
    "# You have two files which contains a list of compagnies’ symbols in Europe and in US. You will merge them to create a complete list of all symbols.\n",
    "# - Use the “with open()” function to open both csv files.\n",
    "# - The csv file is only on row with a high number of items\n",
    "# - Store their content (list of symbols) in two different variables\n",
    "# - Create the final list with all symbols by merging both lists\n",
    "\n",
    "import pandas as pd\n",
    "import numpy as np\n",
    "import csv\n",
    "\n",
    "list = []\n",
    "\n",
    "# df = pd.read_csv(r\"C:\\Users\\leila\\OneDrive\\Рабочий стол\\IKT\\practice7\\list_symbols_euronext.csv\")\n",
    "with open(r\"C:\\Users\\leila\\OneDrive\\Рабочий стол\\IKT\\practice7\\list_symbols_euronext.csv\") as file:\n",
    "    csvfile = csv.reader(file)\n",
    "    for row in csvfile:\n",
    "        list += row\n",
    "\n",
    "\n",
    "with open(r\"C:\\Users\\leila\\OneDrive\\Рабочий стол\\IKT\\practice7\\list_symbols_US.csv\") as file:\n",
    "    csvfile = csv.reader(file)\n",
    "    for row in csvfile:\n",
    "        list += row\n",
    "\n",
    "print(list)\n",
    "print(len(list))\n",
    "\n",
    "\n",
    "\n"
   ]
  },
  {
   "cell_type": "code",
   "execution_count": 2,
   "metadata": {},
   "outputs": [
    {
     "name": "stdout",
     "output_type": "stream",
     "text": [
      "ALMIL.PA\n",
      "2020.OL\n",
      "2CRSI.PA\n",
      "5PG.OL\n",
      "MLATV.PA\n",
      "error\n",
      "ALAST.PA\n",
      "AALB.AS\n",
      "AASB.OL\n",
      "ABI.BR\n",
      "AB.PA\n",
      "9\n"
     ]
    }
   ],
   "source": [
    "# 2. Downloading\n",
    "# You have now a big list of compagnies’ symbols. You will use them and the url of yahoo finance to download csv file of all these compagnies.\n",
    "# - Create a loop on the 10th first symbols (making a loop on all symbols is extremely long).\n",
    "# - For every iteration, download the csv file by using the read_csv() function of pandas and the following URL: “https://query1.finance.yahoo.com/v7/finance/download/”SYM”?period1=0&period2=1661904000&interval=1d&events=history&includeAdjustedClose=true”\n",
    "# o Where “SYM” is the symbol of the company (change at every iteration)\n",
    "# o The following function: pd.read_csv(url) allow you to directly download data from the url into a dataframe\n",
    "# - Add a column with the symbol of the company to the created dataframe\n",
    "# - Add the dataframe to a list of dataframes\n",
    "\n",
    "import pandas as pd\n",
    "import numpy as np\n",
    "\n",
    "list_df = []\n",
    "for i in range(10):\n",
    "    print(list[i])\n",
    "    try:\n",
    "        url = 'https://query1.finance.yahoo.com/v7/finance/download/' + list[i] + '?period1=0&period2=1661904000&interval=1d&events=history&includeAdjustedClose=true'\n",
    "        df = pd.read_csv(url)\n",
    "        df['name'] = list[i]\n",
    "        list_df.append(df)\n",
    "        # print(df)\n",
    "    except:\n",
    "        print('error')\n",
    "\n",
    "print(len(list_df))\n",
    "\n"
   ]
  },
  {
   "cell_type": "code",
   "execution_count": 3,
   "metadata": {},
   "outputs": [
    {
     "name": "stdout",
     "output_type": "stream",
     "text": [
      "             Date       Open       High        Low      Close  Adj Close  \\\n",
      "0      2006-02-08  23.299999  23.299999  23.299999  23.299999  20.706812   \n",
      "1      2006-02-09  17.950001  17.950001  17.950001  17.950001  15.952244   \n",
      "2      2006-02-10  16.990000  16.990000  16.990000  16.990000  15.099088   \n",
      "3      2006-02-13  18.059999  18.059999  18.059999  18.059999  16.050003   \n",
      "4      2006-02-14  19.000000  19.000000  19.000000  19.000000  16.885384   \n",
      "...           ...        ...        ...        ...        ...        ...   \n",
      "30232  2022-08-24   7.500000   7.500000   7.280000   7.380000   7.380000   \n",
      "30233  2022-08-25   8.280000   9.400000   8.260000   8.800000   8.800000   \n",
      "30234  2022-08-26   8.640000   9.070000   8.570000   8.910000   8.910000   \n",
      "30235  2022-08-29   8.720000   9.045000   8.600000   8.870000   8.870000   \n",
      "30236  2022-08-30   8.950000   9.095000   8.860000   9.025000   9.025000   \n",
      "\n",
      "         Volume      name  \n",
      "0           0.0  ALMIL.PA  \n",
      "1      177800.0  ALMIL.PA  \n",
      "2       65600.0  ALMIL.PA  \n",
      "3       38200.0  ALMIL.PA  \n",
      "4       23200.0  ALMIL.PA  \n",
      "...         ...       ...  \n",
      "30232   57688.0     AB.PA  \n",
      "30233  327851.0     AB.PA  \n",
      "30234  112173.0     AB.PA  \n",
      "30235   57706.0     AB.PA  \n",
      "30236   42130.0     AB.PA  \n",
      "\n",
      "[30237 rows x 8 columns]\n"
     ]
    }
   ],
   "source": [
    "# 3. Creating the final dataframe\n",
    "# You have now a list of dataframes, you will merge them into one big dataframe and save it using parquet.\n",
    "# - Merge the list of dataframes into one big dataframe (use the concat() function of pandas)\n",
    "# - Save the dataframe into a file using the df.to_parquet() function (install pyarrow and fastparquet package first)\n",
    "# - Compare the saved file with the file saved with the df.to_csv() function\n",
    "\n",
    "df_final = pd.concat(list_df, ignore_index=True)\n",
    "print(df_final)\n",
    "df_final.to_csv(r\"C:\\Users\\leila\\OneDrive\\Рабочий стол\\IKT\\practice7\\df_final_US_EUR.csv\")\n",
    "df_final.to_parquet(r\"C:\\Users\\leila\\OneDrive\\Рабочий стол\\IKT\\practice7\\df_final_US_EUR.parquet\")\n"
   ]
  },
  {
   "cell_type": "code",
   "execution_count": 2,
   "metadata": {},
   "outputs": [
    {
     "name": "stdout",
     "output_type": "stream",
     "text": [
      "             Date       Open       High        Low      Close  Adj Close  \\\n",
      "0      2006-02-08  23.299999  23.299999  23.299999  23.299999  20.706812   \n",
      "1      2006-02-09  17.950001  17.950001  17.950001  17.950001  15.952244   \n",
      "2      2006-02-10  16.990000  16.990000  16.990000  16.990000  15.099088   \n",
      "3      2006-02-13  18.059999  18.059999  18.059999  18.059999  16.050003   \n",
      "4      2006-02-14  19.000000  19.000000  19.000000  19.000000  16.885384   \n",
      "...           ...        ...        ...        ...        ...        ...   \n",
      "30232  2022-08-24   7.500000   7.500000   7.280000   7.380000   7.380000   \n",
      "30233  2022-08-25   8.280000   9.400000   8.260000   8.800000   8.800000   \n",
      "30234  2022-08-26   8.640000   9.070000   8.570000   8.910000   8.910000   \n",
      "30235  2022-08-29   8.720000   9.045000   8.600000   8.870000   8.870000   \n",
      "30236  2022-08-30   8.950000   9.095000   8.860000   9.025000   9.025000   \n",
      "\n",
      "         Volume      name  \n",
      "0           0.0  ALMIL.PA  \n",
      "1      177800.0  ALMIL.PA  \n",
      "2       65600.0  ALMIL.PA  \n",
      "3       38200.0  ALMIL.PA  \n",
      "4       23200.0  ALMIL.PA  \n",
      "...         ...       ...  \n",
      "30232   57688.0     AB.PA  \n",
      "30233  327851.0     AB.PA  \n",
      "30234  112173.0     AB.PA  \n",
      "30235   57706.0     AB.PA  \n",
      "30236   42130.0     AB.PA  \n",
      "\n",
      "[30237 rows x 8 columns]\n",
      "30237\n",
      "1086\n"
     ]
    }
   ],
   "source": [
    "# 4. Cleaning your dataframe\n",
    "# You have dataframe with a huge amount of data, clean it to remove incorrect entries.\n",
    "# - Load the final dataframe named ‘df_final_US_EUR.parquet’ with the df.read_parquet() function\n",
    "# - Look into your dataframe and remove:\n",
    "# o Empty rows (Nan)\n",
    "# o Rows with 0 prices\n",
    "# o Rows with incorrect type\n",
    "# o Others incorrect rows…\n",
    "\n",
    "\n",
    "import numpy as np\n",
    "df = pd.read_parquet(r\"C:\\Users\\leila\\OneDrive\\Рабочий стол\\IKT\\practice7\\df_final_US_EUR.parquet\")\n",
    "print(df)\n",
    "print(len(df))\n",
    "\n",
    "\n",
    "# print(df.isnull().sum())\n",
    "print(df.isnull().sum().sum())"
   ]
  },
  {
   "cell_type": "code",
   "execution_count": 3,
   "metadata": {},
   "outputs": [
    {
     "name": "stdout",
     "output_type": "stream",
     "text": [
      "0\n",
      "             Date       Open       High        Low      Close  Adj Close  \\\n",
      "0      2006-02-08  23.299999  23.299999  23.299999  23.299999  20.706812   \n",
      "1      2006-02-09  17.950001  17.950001  17.950001  17.950001  15.952244   \n",
      "2      2006-02-10  16.990000  16.990000  16.990000  16.990000  15.099088   \n",
      "3      2006-02-13  18.059999  18.059999  18.059999  18.059999  16.050003   \n",
      "4      2006-02-14  19.000000  19.000000  19.000000  19.000000  16.885384   \n",
      "...           ...        ...        ...        ...        ...        ...   \n",
      "30232  2022-08-24   7.500000   7.500000   7.280000   7.380000   7.380000   \n",
      "30233  2022-08-25   8.280000   9.400000   8.260000   8.800000   8.800000   \n",
      "30234  2022-08-26   8.640000   9.070000   8.570000   8.910000   8.910000   \n",
      "30235  2022-08-29   8.720000   9.045000   8.600000   8.870000   8.870000   \n",
      "30236  2022-08-30   8.950000   9.095000   8.860000   9.025000   9.025000   \n",
      "\n",
      "         Volume      name  \n",
      "0           NaN  ALMIL.PA  \n",
      "1      177800.0  ALMIL.PA  \n",
      "2       65600.0  ALMIL.PA  \n",
      "3       38200.0  ALMIL.PA  \n",
      "4       23200.0  ALMIL.PA  \n",
      "...         ...       ...  \n",
      "30232   57688.0     AB.PA  \n",
      "30233  327851.0     AB.PA  \n",
      "30234  112173.0     AB.PA  \n",
      "30235   57706.0     AB.PA  \n",
      "30236   42130.0     AB.PA  \n",
      "\n",
      "[30056 rows x 8 columns]\n",
      "30056\n",
      "1704\n"
     ]
    }
   ],
   "source": [
    "df.dropna(inplace=True)\n",
    "print(df.isnull().sum().sum())\n",
    "# print(df)\n",
    "\n",
    "for index, lines in df.iterrows():\n",
    "    if(lines['Volume'] == 0):\n",
    "        df.loc[index, 'Volume'] = np.nan\n",
    "\n",
    "print(df)\n",
    "print(len(df))\n",
    "print(df.isnull().sum().sum())"
   ]
  },
  {
   "cell_type": "code",
   "execution_count": 4,
   "metadata": {},
   "outputs": [
    {
     "name": "stdout",
     "output_type": "stream",
     "text": [
      "0\n",
      "28352\n",
      "             Date       Open       High        Low      Close  Adj Close  \\\n",
      "0      2006-02-09  17.950001  17.950001  17.950001  17.950001  15.952244   \n",
      "1      2006-02-10  16.990000  16.990000  16.990000  16.990000  15.099088   \n",
      "2      2006-02-13  18.059999  18.059999  18.059999  18.059999  16.050003   \n",
      "3      2006-02-14  19.000000  19.000000  19.000000  19.000000  16.885384   \n",
      "4      2006-02-15  19.000000  19.000000  19.000000  19.000000  16.885384   \n",
      "...           ...        ...        ...        ...        ...        ...   \n",
      "28347  2022-08-24   7.500000   7.500000   7.280000   7.380000   7.380000   \n",
      "28348  2022-08-25   8.280000   9.400000   8.260000   8.800000   8.800000   \n",
      "28349  2022-08-26   8.640000   9.070000   8.570000   8.910000   8.910000   \n",
      "28350  2022-08-29   8.720000   9.045000   8.600000   8.870000   8.870000   \n",
      "28351  2022-08-30   8.950000   9.095000   8.860000   9.025000   9.025000   \n",
      "\n",
      "         Volume      name  \n",
      "0      177800.0  ALMIL.PA  \n",
      "1       65600.0  ALMIL.PA  \n",
      "2       38200.0  ALMIL.PA  \n",
      "3       23200.0  ALMIL.PA  \n",
      "4       16100.0  ALMIL.PA  \n",
      "...         ...       ...  \n",
      "28347   57688.0     AB.PA  \n",
      "28348  327851.0     AB.PA  \n",
      "28349  112173.0     AB.PA  \n",
      "28350   57706.0     AB.PA  \n",
      "28351   42130.0     AB.PA  \n",
      "\n",
      "[28352 rows x 8 columns]\n"
     ]
    }
   ],
   "source": [
    "df.dropna(inplace=True, subset='Volume')\n",
    "print(df.isnull().sum().sum())\n",
    "print(len(df))\n",
    "df = df.reset_index(drop=True)\n",
    "print(df)"
   ]
  }
 ],
 "metadata": {
  "kernelspec": {
   "display_name": "Python 3.10.1 64-bit",
   "language": "python",
   "name": "python3"
  },
  "language_info": {
   "codemirror_mode": {
    "name": "ipython",
    "version": 3
   },
   "file_extension": ".py",
   "mimetype": "text/x-python",
   "name": "python",
   "nbconvert_exporter": "python",
   "pygments_lexer": "ipython3",
   "version": "3.10.1"
  },
  "orig_nbformat": 4,
  "vscode": {
   "interpreter": {
    "hash": "e4dc0f147d725ed11c0fe90f83a594f1476427bfe3a425e4102a8fdc0a894ea9"
   }
  }
 },
 "nbformat": 4,
 "nbformat_minor": 2
}
